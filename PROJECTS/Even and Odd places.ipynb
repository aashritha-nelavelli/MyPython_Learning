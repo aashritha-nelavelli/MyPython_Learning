{
 "cells": [
  {
   "cell_type": "markdown",
   "metadata": {},
   "source": [
    "Write a program which will read an alphanumeric string from input. \n",
    "   Print 'True' if the alphanumeric string has an alphabet at every odd index character and digits at every even index characters;\n",
    "   else print 'False'.\n",
    "\n",
    "Assumptions:\n",
    "Assume that the alphabets will be in upper case only and digits can be among (0-9)\n",
    "Input- 0U3H0J\n",
    "Output- True\n"
   ]
  },
  {
   "cell_type": "code",
   "execution_count": 1,
   "metadata": {},
   "outputs": [
    {
     "name": "stdout",
     "output_type": "stream",
     "text": [
      "True\n"
     ]
    }
   ],
   "source": [
    "sequence='0U3H0J'\n",
    "odd_pos=[]\n",
    "even_pos=[]\n",
    "for i in range(0,len(sequence),2):\n",
    "    even_pos.append(sequence[i])\n",
    "for i in range(1,len(sequence),2):\n",
    "    odd_pos.append(sequence[i])\n",
    "ev_count=0\n",
    "odd_count=0\n",
    "for i in odd_pos:\n",
    "    if(i.isalpha()==True):\n",
    "        odd_count+=1\n",
    "for i in even_pos:\n",
    "    if(i.isdigit()==True):\n",
    "        ev_count+=1\n",
    "if(odd_count==len(odd_pos) and ev_count==len(even_pos)):\n",
    "    print(True)\n",
    "else:\n",
    "    print(False)"
   ]
  },
  {
   "cell_type": "code",
   "execution_count": 4,
   "metadata": {},
   "outputs": [],
   "source": [
    "sequence='0U3H0J'\n",
    "\n",
    "odd_pos=[]\n",
    "even_pos=[]\n",
    "\n",
    "for i in range(0,len(sequence),2):\n",
    "    even_pos.append(sequence[i])\n",
    "for i in range(1,len(sequence),2):\n",
    "    odd_pos.append(sequence[i])"
   ]
  },
  {
   "cell_type": "code",
   "execution_count": 5,
   "metadata": {},
   "outputs": [
    {
     "name": "stdout",
     "output_type": "stream",
     "text": [
      "['U', 'H', 'J']\n",
      "['0', '3', '0']\n"
     ]
    }
   ],
   "source": [
    "print(odd_pos)\n",
    "print(even_pos)"
   ]
  },
  {
   "cell_type": "code",
   "execution_count": 6,
   "metadata": {},
   "outputs": [
    {
     "data": {
      "text/plain": [
       "3"
      ]
     },
     "execution_count": 6,
     "metadata": {},
     "output_type": "execute_result"
    }
   ],
   "source": [
    "odd_count=0\n",
    "\n",
    "for i in odd_pos:\n",
    "    if(i.isalpha()==True):\n",
    "        odd_count+=1\n",
    "        \n",
    "odd_count"
   ]
  },
  {
   "cell_type": "code",
   "execution_count": 7,
   "metadata": {},
   "outputs": [
    {
     "data": {
      "text/plain": [
       "3"
      ]
     },
     "execution_count": 7,
     "metadata": {},
     "output_type": "execute_result"
    }
   ],
   "source": [
    "even_count=0\n",
    "\n",
    "for i in even_pos:\n",
    "    if(i.isdigit()==True):\n",
    "        even_count+=1\n",
    "        \n",
    "even_count"
   ]
  },
  {
   "cell_type": "code",
   "execution_count": 8,
   "metadata": {},
   "outputs": [
    {
     "name": "stdout",
     "output_type": "stream",
     "text": [
      "True\n"
     ]
    }
   ],
   "source": [
    "if(odd_count==len(odd_pos) and even_count==len(even_pos)):\n",
    "    print(True)\n",
    "    \n",
    "else:\n",
    "    print(False)"
   ]
  },
  {
   "cell_type": "code",
   "execution_count": 2,
   "metadata": {},
   "outputs": [],
   "source": [
    "def find_ev_odd(sequence):\n",
    "    odd_pos=[]\n",
    "    even_pos=[]\n",
    "    for i in range(0,len(sequence),2):\n",
    "        even_pos.append(sequence[i])\n",
    "    for i in range(1,len(sequence),2):\n",
    "        odd_pos.append(sequence[i])\n",
    "    ev_count=0\n",
    "    odd_count=0\n",
    "    for i in odd_pos:\n",
    "        if(i.isalpha()==True):\n",
    "            odd_count+=1\n",
    "    for i in even_pos:\n",
    "        if(i.isdigit()==True):\n",
    "            ev_count+=1\n",
    "    if(odd_count==len(odd_pos) and ev_count==len(even_pos)):\n",
    "        return True\n",
    "    else:\n",
    "        return False"
   ]
  },
  {
   "cell_type": "code",
   "execution_count": 3,
   "metadata": {},
   "outputs": [
    {
     "name": "stdout",
     "output_type": "stream",
     "text": [
      " QWER\n"
     ]
    },
    {
     "data": {
      "text/plain": [
       "False"
      ]
     },
     "execution_count": 3,
     "metadata": {},
     "output_type": "execute_result"
    }
   ],
   "source": [
    "input_sequence=input()\n",
    "\n",
    "\n",
    "find_ev_odd(input_sequence)"
   ]
  },
  {
   "cell_type": "code",
   "execution_count": null,
   "metadata": {},
   "outputs": [],
   "source": []
  }
 ],
 "metadata": {
  "kernelspec": {
   "display_name": "Python 3 (Data Science)",
   "language": "python",
   "name": "python3__SAGEMAKER_INTERNAL__arn:aws:sagemaker:us-east-2:429704687514:image/datascience-1.0"
  },
  "language_info": {
   "codemirror_mode": {
    "name": "ipython",
    "version": 3
   },
   "file_extension": ".py",
   "mimetype": "text/x-python",
   "name": "python",
   "nbconvert_exporter": "python",
   "pygments_lexer": "ipython3",
   "version": "3.7.6"
  }
 },
 "nbformat": 4,
 "nbformat_minor": 4
}
