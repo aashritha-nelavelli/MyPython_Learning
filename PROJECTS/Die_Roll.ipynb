{
  "cells": [
    {
      "cell_type": "markdown",
      "metadata": {
        "id": "Z_F0INvAKGlk"
      },
      "source": [
        "## DICE ROLLS\n",
        "\n",
        " Problem Statement:\n",
        "\n",
        " We will start with a basic program to output a random integer between 1 and 6. This represents a basic dice roll. We will import the random built-in library in Python and use the randint() function in the random library to produce a random variable.\n",
        "\n",
        " To import the random library we use the import random code at the beginning of our program. The random library needs to be imported before we use the random library.\n",
        "\n",
        " import random\n",
        "\n",
        " We will set the minimum and maximum values of the random number to 1 and 6. We will use variables to store the minimum and maximum values. This will allow us to modify it later if we add on to our code.\n",
        "\n",
        " min_value = 1\n",
        " max_value = 6\n",
        "\n",
        " Now we can use the randint() function in the random library to generate a random variable. The randint() function takes as parameters the minimum and maximum value of the randomly generated value and outputs a random integer between the minimum and maximum values.\n",
        "\n",
        " print(random.randint(min_value, max_value))"
      ]
    },
    {
      "cell_type": "code",
      "execution_count": null,
      "metadata": {
        "colab": {
          "base_uri": "https://localhost:8080/"
        },
        "id": "J03IJU23FpDa",
        "outputId": "549811b8-3974-4a98-ebce-8eab3d37fcc4"
      },
      "outputs": [
        {
          "name": "stdout",
          "output_type": "stream",
          "text": [
            "Rolling The Dices...\n",
            "The Values are :\n",
            "5\n",
            "1\n",
            "Roll the Dices Again?no\n"
          ]
        }
      ],
      "source": [
        "#importing module for random number generation\n",
        "import random\n",
        "\n",
        "#range of the values of a dice\n",
        "min_val = 1\n",
        "max_val = 6\n",
        "\n",
        "#to loop the rolling through user input\n",
        "roll_again = \"yes\"\n",
        "\n",
        "#loop\n",
        "while roll_again.lower() == \"yes\" or roll_again.lower() == \"y\":\n",
        "    print(\"Rolling The Dices...\")\n",
        "    print(\"The Values are :\")\n",
        "\n",
        "    #generating and printing 1st random integer from 1 to 6\n",
        "    print(random.randint )\n",
        "\n",
        "    #generating and printing 2nd random integer from 1 to 6\n",
        "    print(random.randint(min_val, max_val))\n",
        "\n",
        "    #asking user to roll the dice again. Any input other than yes or y will terminate the loop\n",
        "    roll_again = input(\"Roll the Dices Again?\")"
      ]
    },
    {
      "cell_type": "code",
      "execution_count": null,
      "metadata": {
        "id": "G1XAURyWFpDh"
      },
      "outputs": [],
      "source": []
    }
  ],
  "metadata": {
    "colab": {
      "provenance": []
    },
    "kernelspec": {
      "display_name": "Python 3",
      "language": "python",
      "name": "python3"
    },
    "language_info": {
      "codemirror_mode": {
        "name": "ipython",
        "version": 3
      },
      "file_extension": ".py",
      "mimetype": "text/x-python",
      "name": "python",
      "nbconvert_exporter": "python",
      "pygments_lexer": "ipython3",
      "version": "3.7.6"
    }
  },
  "nbformat": 4,
  "nbformat_minor": 0
}
