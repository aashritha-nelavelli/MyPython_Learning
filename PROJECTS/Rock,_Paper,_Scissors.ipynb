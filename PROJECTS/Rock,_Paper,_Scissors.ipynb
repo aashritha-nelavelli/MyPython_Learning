{
  "cells": [
    {
      "cell_type": "markdown",
      "source": [
        "## ROCK,PAPER,SCISSOR GAME\n",
        "\n",
        "Problem Statement:\n",
        "\n",
        "Python is a multipurpose language and one can do literally anything with it. Python can also be used for game development. Let’s create a simple command line Rock-Paper-Scissor game without using any external game libraries like PyGame.\n",
        "\n",
        "In this game, user gets the first chance to pick the option among Rock, paper and scissor. After that computer select from remaining two choices(randomly), then winner is decided as per the rules.\n",
        "\n",
        "Winning Rules as follows : <br>\n",
        "Rock vs paper-> paper wins (Paper covers rock)<br>\n",
        "Rock vs scissor-> Rock wins (Rock breaks scissors) <br>\n",
        "paper vs scissor-> scissor wins. (Scissors cut papers)"
      ],
      "metadata": {
        "id": "hTISy9FkK48u"
      }
    },
    {
      "cell_type": "code",
      "execution_count": 1,
      "metadata": {
        "colab": {
          "base_uri": "https://localhost:8080/"
        },
        "id": "a8a691dcK3jw",
        "outputId": "1884e699-b9bb-4194-c31a-ef06bb4efa19"
      },
      "outputs": [
        {
          "output_type": "stream",
          "name": "stdout",
          "text": [
            "Rock, Paper or  Scissors?paper\n",
            "You win! Paper covers Rock\n",
            "Rock, Paper or  Scissors?scissors\n",
            "You lose... Rock smashes Scissors\n",
            "Rock, Paper or  Scissors?rock\n",
            "Tie!\n",
            "Rock, Paper or  Scissors?rock\\\n",
            "Rock, Paper or  Scissors?rock\n",
            "Tie!\n",
            "Rock, Paper or  Scissors?end\n",
            "Final Scores:\n",
            "CPU:1\n",
            "Plaer:1\n",
            "Draw\n"
          ]
        }
      ],
      "source": [
        "import random\n",
        "choices = [\"Rock\", \"Paper\", \"Scissors\"]\n",
        "computer = random.choice(choices)\n",
        "player = False\n",
        "cpu_score = 0\n",
        "player_score = 0\n",
        "while True:\n",
        "    player = input(\"Rock, Paper or  Scissors?\").capitalize()\n",
        "    ## Conditions of Rock,Paper and Scissors\n",
        "    if player == computer:\n",
        "        print(\"Tie!\")\n",
        "    elif player == \"Rock\":\n",
        "        if computer == \"Paper\":\n",
        "            print(\"You lose!\", computer, \"covers\", player)\n",
        "            cpu_score+=1\n",
        "        else:\n",
        "            print(\"You win!\", player, \"smashes\", computer)\n",
        "            player_score+=1\n",
        "    elif player == \"Paper\":\n",
        "        if computer == \"Scissors\":\n",
        "            print(\"You lose!\", computer, \"cut\", player)\n",
        "            cpu_score+=1\n",
        "        else:\n",
        "            print(\"You win!\", player, \"covers\", computer)\n",
        "            player_score+=1\n",
        "    elif player == \"Scissors\":\n",
        "        if computer == \"Rock\":\n",
        "            print(\"You lose...\", computer, \"smashes\", player)\n",
        "            cpu_score+=1\n",
        "        else:\n",
        "            print(\"You win!\", player, \"cut\", computer)\n",
        "            player_score+=1\n",
        "    elif player=='End':\n",
        "        print(\"Final Scores:\")\n",
        "        print(f\"CPU:{cpu_score}\")\n",
        "        print(f\"Plaer:{player_score}\")\n",
        "        break\n",
        "\n",
        "if(cpu_score>player_score):\n",
        "    print(\"CPU wins\")\n",
        "elif(cpu_score==player_score):\n",
        "    print(\"Draw\")\n",
        "else:\n",
        "    print(\"You Win\")"
      ]
    },
    {
      "cell_type": "code",
      "execution_count": null,
      "metadata": {
        "id": "82Y2_sbLK3jz"
      },
      "outputs": [],
      "source": []
    }
  ],
  "metadata": {
    "kernelspec": {
      "display_name": "Python 3",
      "language": "python",
      "name": "python3"
    },
    "language_info": {
      "codemirror_mode": {
        "name": "ipython",
        "version": 3
      },
      "file_extension": ".py",
      "mimetype": "text/x-python",
      "name": "python",
      "nbconvert_exporter": "python",
      "pygments_lexer": "ipython3",
      "version": "3.7.6"
    },
    "colab": {
      "provenance": []
    }
  },
  "nbformat": 4,
  "nbformat_minor": 0
}