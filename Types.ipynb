{
  "cells": [
    {
      "cell_type": "markdown",
      "metadata": {
        "id": "j1BRZKQ3gvE0"
      },
      "source": [
        "<h2>Table of Contents</h2>\n",
        "<div class=\"alert alert-block alert-info\" style=\"margin-top: 20px\">\n",
        "    <ul>\n",
        "            <a href=\"#Types-of-objects-in-Python\">Types of objects in Python</a>\n",
        "            <ul>\n",
        "                <li><a href=\"#Integers\">Integers</a></li>\n",
        "                <li><a href=\"#Floats\">Floats</a></li>\n",
        "                <li><a href=\"#Converting-from-one-object-type-to-a-different-object-type\">Converting from one object type to a different object type</a></li>\n",
        "                <li><a href=\"#Boolean-data-type\">Boolean data type</a></li>\n",
        "                <li><a href=\"#Exercise:-Types\">Exercise: Types</a></li>\n",
        "                <li><a href=\"Basic operations\">Basic Operations</a></li>\n",
        "            </ul>\n",
        "        </li>\n",
        "        </ul>\n",
        "</div>\n",
        "\n",
        "<hr>\n"
      ]
    },
    {
      "cell_type": "markdown",
      "metadata": {
        "id": "EtI-HSuvgvE2"
      },
      "source": [
        "## Types of objects in Python\n"
      ]
    },
    {
      "cell_type": "markdown",
      "metadata": {
        "id": "DaPd3PgugvE2"
      },
      "source": [
        "<p>Python is an object-oriented language. There are many different types of objects in Python. Let's start with the most common object types: <i>strings</i>, <i>integers</i> and <i>floats</i>. Anytime you write words (text) in Python, you're using <i>character strings</i> (strings for short). The most common numbers, on the other hand, are <i>integers</i> (e.g. -1, 0, 100) and <i>floats</i>, which represent real numbers (e.g. 3.14, -42.0).</p>\n"
      ]
    },
    {
      "cell_type": "markdown",
      "metadata": {
        "id": "i4-PkzfFgvE3"
      },
      "source": [
        "<a align=\"center\">\n",
        "    <img src=\"https://cf-courses-data.s3.us.cloud-object-storage.appdomain.cloud/IBMDeveloperSkillsNetwork-PY0101EN-SkillsNetwork/labs/Module%201/images/TypesObjects.png\" width=\"600\">\n",
        "</a>\n"
      ]
    },
    {
      "cell_type": "markdown",
      "metadata": {
        "id": "W3LiT6t4gvE3"
      },
      "source": [
        "<p>The following code cells contain some examples.</p>\n"
      ]
    },
    {
      "cell_type": "code",
      "execution_count": null,
      "metadata": {
        "id": "ksBZOKN_gvE3",
        "outputId": "d3c3ff6d-f7ce-4b1e-d7b1-e28a459089fd"
      },
      "outputs": [
        {
          "data": {
            "text/plain": [
              "11"
            ]
          },
          "execution_count": 1,
          "metadata": {},
          "output_type": "execute_result"
        }
      ],
      "source": [
        "# Integer\n",
        "\n",
        "11"
      ]
    },
    {
      "cell_type": "code",
      "execution_count": null,
      "metadata": {
        "id": "AtknUOxsgvE5",
        "outputId": "d189e86f-f35f-4d48-abcb-ad4c82e9ab50"
      },
      "outputs": [
        {
          "data": {
            "text/plain": [
              "2.14"
            ]
          },
          "execution_count": 2,
          "metadata": {},
          "output_type": "execute_result"
        }
      ],
      "source": [
        "# Float\n",
        "\n",
        "2.14"
      ]
    },
    {
      "cell_type": "code",
      "execution_count": null,
      "metadata": {
        "id": "sW2ky0Z8gvE6",
        "outputId": "a7e94928-bdee-44c1-a7a1-06418a40a75c"
      },
      "outputs": [
        {
          "data": {
            "text/plain": [
              "'Hello, Python 101!'"
            ]
          },
          "execution_count": 3,
          "metadata": {},
          "output_type": "execute_result"
        }
      ],
      "source": [
        "# String\n",
        "\n",
        "\"Hello, Python 101!\""
      ]
    },
    {
      "cell_type": "markdown",
      "metadata": {
        "id": "asbYcBUcgvE6"
      },
      "source": [
        "<p>You can get Python to tell you the type of an expression by using the built-in <code>type()</code> function. You'll notice that Python refers to integers as <code>int</code>, floats as <code>float</code>, and character strings as <code>str</code>.</p>\n"
      ]
    },
    {
      "cell_type": "code",
      "execution_count": null,
      "metadata": {
        "id": "Tgi1mn9bgvE7",
        "outputId": "6c123893-0d74-44d1-d8ce-efbf4de4d530"
      },
      "outputs": [
        {
          "data": {
            "text/plain": [
              "int"
            ]
          },
          "execution_count": 4,
          "metadata": {},
          "output_type": "execute_result"
        }
      ],
      "source": [
        "# Type of 12\n",
        "\n",
        "type(12)"
      ]
    },
    {
      "cell_type": "code",
      "execution_count": null,
      "metadata": {
        "id": "7qv7OtNqgvE7",
        "outputId": "73bbf34f-a1b4-42de-91c5-15fe01d638f1"
      },
      "outputs": [
        {
          "data": {
            "text/plain": [
              "float"
            ]
          },
          "execution_count": 5,
          "metadata": {},
          "output_type": "execute_result"
        }
      ],
      "source": [
        "# Type of 2.14\n",
        "\n",
        "type(2.14)"
      ]
    },
    {
      "cell_type": "code",
      "execution_count": null,
      "metadata": {
        "id": "f7Czm8BIgvE7",
        "outputId": "9df47f9b-8f7a-42ca-a856-47e0b592af55"
      },
      "outputs": [
        {
          "data": {
            "text/plain": [
              "str"
            ]
          },
          "execution_count": 6,
          "metadata": {},
          "output_type": "execute_result"
        }
      ],
      "source": [
        "# Type of \"Hello, Python 101!\"\n",
        "\n",
        "type(\"Hello, Python 101!\")"
      ]
    },
    {
      "cell_type": "markdown",
      "metadata": {
        "id": "9Ky3lBDQgvE8"
      },
      "source": [
        "<p>In the code cell below, use the <code>type()</code> function to check the object type of <code>12.0</code>.\n"
      ]
    },
    {
      "cell_type": "code",
      "execution_count": null,
      "metadata": {
        "id": "KZRmHRNVgvE8",
        "outputId": "d781ac97-ceec-4767-a730-83250c10f023"
      },
      "outputs": [
        {
          "data": {
            "text/plain": [
              "float"
            ]
          },
          "execution_count": 9,
          "metadata": {},
          "output_type": "execute_result"
        }
      ],
      "source": [
        "# Write your code below. Don't forget to press Shift+Enter to execute the cell\n",
        "type(12.0)"
      ]
    },
    {
      "cell_type": "markdown",
      "metadata": {
        "id": "fkXfurdsgvE8"
      },
      "source": [
        "### Integers\n"
      ]
    },
    {
      "cell_type": "markdown",
      "metadata": {
        "id": "W36xPLqGgvE8"
      },
      "source": [
        "<p>Here are some examples of integers. Integers can be negative or positive numbers:</p>\n"
      ]
    },
    {
      "cell_type": "markdown",
      "metadata": {
        "id": "0apOjvv4gvE8"
      },
      "source": [
        "<a align=\"center\">\n",
        "    <img src=\"https://cf-courses-data.s3.us.cloud-object-storage.appdomain.cloud/IBMDeveloperSkillsNetwork-PY0101EN-SkillsNetwork/labs/Module%201/images/TypesInt.png\" width=\"600\">\n",
        "</a>\n"
      ]
    },
    {
      "cell_type": "markdown",
      "metadata": {
        "id": "QlCV-5tTgvE8"
      },
      "source": [
        "<p>We can verify this is the case by using, you guessed it, the <code>type()</code> function:\n"
      ]
    },
    {
      "cell_type": "code",
      "execution_count": null,
      "metadata": {
        "id": "Ig7d0bLngvE9",
        "outputId": "3fc300d1-2781-4f41-d875-25a53ecc731c"
      },
      "outputs": [
        {
          "data": {
            "text/plain": [
              "int"
            ]
          },
          "execution_count": 10,
          "metadata": {},
          "output_type": "execute_result"
        }
      ],
      "source": [
        "# Print the type of -1\n",
        "\n",
        "type(-1)"
      ]
    },
    {
      "cell_type": "code",
      "execution_count": null,
      "metadata": {
        "id": "OSHsC5XWgvE9",
        "outputId": "cacc113b-2022-4737-d728-75f2c15b220d"
      },
      "outputs": [
        {
          "data": {
            "text/plain": [
              "int"
            ]
          },
          "execution_count": 11,
          "metadata": {},
          "output_type": "execute_result"
        }
      ],
      "source": [
        "# Print the type of 4\n",
        "\n",
        "type(4)"
      ]
    },
    {
      "cell_type": "code",
      "execution_count": null,
      "metadata": {
        "id": "d31A1XY6gvE9",
        "outputId": "45820015-3b37-4cab-8762-81a8fac9c51d"
      },
      "outputs": [
        {
          "data": {
            "text/plain": [
              "int"
            ]
          },
          "execution_count": 12,
          "metadata": {},
          "output_type": "execute_result"
        }
      ],
      "source": [
        "# Print the type of 0\n",
        "\n",
        "type(0)"
      ]
    },
    {
      "cell_type": "markdown",
      "metadata": {
        "id": "vrUpQwTbgvE9"
      },
      "source": [
        "### Floats\n"
      ]
    },
    {
      "cell_type": "markdown",
      "metadata": {
        "id": "0g3_AaaigvE9"
      },
      "source": [
        "<p>Floats represent real numbers; they are a superset of integer numbers but also include \"numbers with decimals\". There are some limitations when it comes to machines representing real numbers, but floating point numbers are a good representation in most cases. You can learn more about the specifics of floats for your runtime environment, by checking the value of <code>sys.float_info</code>. This will also tell you what's the largest and smallest number that can be represented with them.</p>\n",
        "\n",
        "<p>Once again, can test some examples with the <code>type()</code> function:\n"
      ]
    },
    {
      "cell_type": "code",
      "execution_count": null,
      "metadata": {
        "id": "1YUTeEF4gvE-",
        "outputId": "4f8a750a-b137-43d7-f39d-9fe082029f1e"
      },
      "outputs": [
        {
          "data": {
            "text/plain": [
              "float"
            ]
          },
          "execution_count": 13,
          "metadata": {},
          "output_type": "execute_result"
        }
      ],
      "source": [
        "# Print the type of 1.0\n",
        "\n",
        "type(1.0) # Notice that 1 is an int, and 1.0 is a float"
      ]
    },
    {
      "cell_type": "code",
      "execution_count": null,
      "metadata": {
        "id": "LY9SJDmrgvE-",
        "outputId": "1b5c8cce-00b4-4595-8221-0f60b148f20a"
      },
      "outputs": [
        {
          "data": {
            "text/plain": [
              "float"
            ]
          },
          "execution_count": 14,
          "metadata": {},
          "output_type": "execute_result"
        }
      ],
      "source": [
        "# Print the type of 0.5\n",
        "\n",
        "type(0.5)"
      ]
    },
    {
      "cell_type": "code",
      "execution_count": null,
      "metadata": {
        "id": "qof76slGgvE-",
        "outputId": "8b4aeb35-3e91-418b-8502-79cafe9f3dfa"
      },
      "outputs": [
        {
          "data": {
            "text/plain": [
              "float"
            ]
          },
          "execution_count": 15,
          "metadata": {},
          "output_type": "execute_result"
        }
      ],
      "source": [
        "# Print the type of 0.56\n",
        "\n",
        "type(0.56)"
      ]
    },
    {
      "cell_type": "code",
      "execution_count": null,
      "metadata": {
        "id": "z8afZIaKgvE-",
        "outputId": "6fc26b0a-34f9-4004-ba31-76f0bd9f99a0"
      },
      "outputs": [
        {
          "data": {
            "text/plain": [
              "sys.float_info(max=1.7976931348623157e+308, max_exp=1024, max_10_exp=308, min=2.2250738585072014e-308, min_exp=-1021, min_10_exp=-307, dig=15, mant_dig=53, epsilon=2.220446049250313e-16, radix=2, rounds=1)"
            ]
          },
          "execution_count": 16,
          "metadata": {},
          "output_type": "execute_result"
        }
      ],
      "source": [
        "# System settings about float type\n",
        "import sys\n",
        "sys.float_info"
      ]
    },
    {
      "cell_type": "markdown",
      "metadata": {
        "id": "anUCLdmvgvE-"
      },
      "source": [
        "### Converting from one object type to a different object type\n"
      ]
    },
    {
      "cell_type": "markdown",
      "metadata": {
        "id": "dhksUMqJgvE_"
      },
      "source": [
        "<p>You can change the type of the object in Python; this is called typecasting. For example, you can convert an <i>integer</i> into a <i>float</i> (e.g. 2 to 2.0).</p>\n",
        "<p>Let's try it:</p>\n"
      ]
    },
    {
      "cell_type": "code",
      "execution_count": null,
      "metadata": {
        "id": "6bGnsYS4gvE_",
        "outputId": "8dc075ee-f536-466f-d317-7247941940aa"
      },
      "outputs": [
        {
          "data": {
            "text/plain": [
              "int"
            ]
          },
          "execution_count": 17,
          "metadata": {},
          "output_type": "execute_result"
        }
      ],
      "source": [
        "# Verify that this is an integer\n",
        "\n",
        "type(2)"
      ]
    },
    {
      "cell_type": "markdown",
      "metadata": {
        "id": "A_wOhLTOgvE_"
      },
      "source": [
        "#### Converting integers to floats\n",
        "<p>Let's cast integer 2 to float:</p>\n"
      ]
    },
    {
      "cell_type": "code",
      "execution_count": null,
      "metadata": {
        "id": "AOyfRDpQgvE_",
        "outputId": "1c38cb5e-f77c-455b-f700-1de8de0175e5"
      },
      "outputs": [
        {
          "data": {
            "text/plain": [
              "2.0"
            ]
          },
          "execution_count": 18,
          "metadata": {},
          "output_type": "execute_result"
        }
      ],
      "source": [
        "# Convert 2 to a float\n",
        "\n",
        "float(2)"
      ]
    },
    {
      "cell_type": "code",
      "execution_count": null,
      "metadata": {
        "id": "GeHypXIZgvE_",
        "outputId": "ea2bf143-18b6-4458-9893-fe04733e75cd"
      },
      "outputs": [
        {
          "data": {
            "text/plain": [
              "float"
            ]
          },
          "execution_count": 19,
          "metadata": {},
          "output_type": "execute_result"
        }
      ],
      "source": [
        "# Convert integer 2 to a float and check its type\n",
        "\n",
        "type(float(2))"
      ]
    },
    {
      "cell_type": "markdown",
      "metadata": {
        "id": "oY__9ZqjgvFA"
      },
      "source": [
        "<p>When we convert an integer into a float, we don't really change the value (i.e., the significand) of the number. However, if we cast a float into an integer, we could potentially lose some information. For example, if we cast the float 1.1 to integer we will get 1 and lose the decimal information (i.e., 0.1):</p>\n"
      ]
    },
    {
      "cell_type": "code",
      "execution_count": null,
      "metadata": {
        "id": "CYzOmZ6rgvFA",
        "outputId": "a2c983be-4eff-4545-91d1-9903d2f8554f"
      },
      "outputs": [
        {
          "data": {
            "text/plain": [
              "1"
            ]
          },
          "execution_count": 20,
          "metadata": {},
          "output_type": "execute_result"
        }
      ],
      "source": [
        "# Casting 1.1 to integer will result in loss of information\n",
        "\n",
        "int(1.1)"
      ]
    },
    {
      "cell_type": "markdown",
      "metadata": {
        "id": "_hZKcH8QgvFA"
      },
      "source": [
        "<h4>Converting from strings to integers or floats</h4>\n"
      ]
    },
    {
      "cell_type": "markdown",
      "metadata": {
        "id": "IP5WfDAKgvFA"
      },
      "source": [
        "<p>Sometimes, we can have a string that contains a number within it. If this is the case, we can cast that string that represents a number into an integer using <code>int()</code>:</p>\n"
      ]
    },
    {
      "cell_type": "code",
      "execution_count": null,
      "metadata": {
        "id": "F4mSdmo0gvFA",
        "outputId": "276a0db4-e92e-47de-b97a-d799dc21f87d"
      },
      "outputs": [
        {
          "data": {
            "text/plain": [
              "1"
            ]
          },
          "execution_count": 21,
          "metadata": {},
          "output_type": "execute_result"
        }
      ],
      "source": [
        "# Convert a string into an integer\n",
        "\n",
        "int('1')"
      ]
    },
    {
      "cell_type": "markdown",
      "metadata": {
        "id": "yjdDTxgQgvFA"
      },
      "source": [
        "<p>But if you try to do so with a string that is not a perfect match for a number, you'll get an error. Try the following:</p>\n"
      ]
    },
    {
      "cell_type": "code",
      "execution_count": null,
      "metadata": {
        "id": "e0KKI195gvFC",
        "outputId": "5f842b32-4366-445d-c41b-53f563af8dd8"
      },
      "outputs": [
        {
          "ename": "ValueError",
          "evalue": "invalid literal for int() with base 10: '1 or 2 people'",
          "output_type": "error",
          "traceback": [
            "\u001b[1;31m---------------------------------------------------------------------------\u001b[0m",
            "\u001b[1;31mValueError\u001b[0m                                Traceback (most recent call last)",
            "Cell \u001b[1;32mIn[22], line 3\u001b[0m\n\u001b[0;32m      1\u001b[0m \u001b[38;5;66;03m# Convert a string into an integer with error\u001b[39;00m\n\u001b[1;32m----> 3\u001b[0m \u001b[38;5;28mint\u001b[39m(\u001b[38;5;124m'\u001b[39m\u001b[38;5;124m1 or 2 people\u001b[39m\u001b[38;5;124m'\u001b[39m)\n",
            "\u001b[1;31mValueError\u001b[0m: invalid literal for int() with base 10: '1 or 2 people'"
          ]
        }
      ],
      "source": [
        "# Convert a string into an integer with error\n",
        "\n",
        "int('1 or 2 people')"
      ]
    },
    {
      "cell_type": "markdown",
      "metadata": {
        "id": "WfRXkOPagvFC"
      },
      "source": [
        "<p>You can also convert strings containing floating point numbers into <i>float</i> objects:</p>\n"
      ]
    },
    {
      "cell_type": "code",
      "execution_count": null,
      "metadata": {
        "id": "AHD9afcNgvFC",
        "outputId": "e8b628cf-734e-49ce-a2d4-9571c32d8b3b"
      },
      "outputs": [
        {
          "data": {
            "text/plain": [
              "1.2"
            ]
          },
          "execution_count": 23,
          "metadata": {},
          "output_type": "execute_result"
        }
      ],
      "source": [
        "# Convert the string \"1.2\" into a float\n",
        "\n",
        "float('1.2')"
      ]
    },
    {
      "cell_type": "markdown",
      "metadata": {
        "id": "V3eDJeV2gvFC"
      },
      "source": [
        "<hr/>\n",
        "<div class=\"alert alert-success alertsuccess\" style=\"margin-top: 20px\">\n",
        "    [Tip:] Note that strings can be represented with single quotes (<code>'1.2'</code>) or double quotes (<code>\"1.2\"</code>), but you can't mix both (e.g., <code>\"1.2'</code>).\n",
        "</div>\n",
        "<hr/>\n"
      ]
    },
    {
      "cell_type": "markdown",
      "metadata": {
        "id": "BDlJrQuCgvFC"
      },
      "source": [
        "<h4>Converting numbers to strings</h4>\n"
      ]
    },
    {
      "cell_type": "markdown",
      "metadata": {
        "id": "Y89enlh3gvFD"
      },
      "source": [
        "<p>If we can convert strings to numbers, it is only natural to assume that we can convert numbers to strings, right?</p>\n"
      ]
    },
    {
      "cell_type": "code",
      "execution_count": null,
      "metadata": {
        "id": "PDzpCWnkgvFD",
        "outputId": "8214476c-738c-4c9f-bb33-c7c06c7b61c6"
      },
      "outputs": [
        {
          "data": {
            "text/plain": [
              "'1'"
            ]
          },
          "execution_count": 24,
          "metadata": {},
          "output_type": "execute_result"
        }
      ],
      "source": [
        "# Convert an integer to a string\n",
        "\n",
        "str(1)\n"
      ]
    },
    {
      "cell_type": "markdown",
      "metadata": {
        "id": "re5HeADegvFD"
      },
      "source": [
        "<p>And there is no reason why we shouldn't be able to make floats into strings as well:</p>\n"
      ]
    },
    {
      "cell_type": "code",
      "execution_count": null,
      "metadata": {
        "id": "clKxpgYEgvFD",
        "outputId": "1aa4a2b1-5b68-420f-d806-9b428f0e6d0b"
      },
      "outputs": [
        {
          "data": {
            "text/plain": [
              "'1.2'"
            ]
          },
          "execution_count": 25,
          "metadata": {},
          "output_type": "execute_result"
        }
      ],
      "source": [
        "# Convert a float to a string\n",
        "\n",
        "str(1.2)"
      ]
    },
    {
      "cell_type": "markdown",
      "metadata": {
        "id": "Bnnzl9y-gvFE"
      },
      "source": [
        "### Boolean data type\n"
      ]
    },
    {
      "cell_type": "markdown",
      "metadata": {
        "id": "qS4o5FB4gvFE"
      },
      "source": [
        "<p><i>Boolean</i> is another important type in Python. An object of type <i>Boolean</i> can take on one of two values: <code>True</code> or <code>False</code>:</p>\n"
      ]
    },
    {
      "cell_type": "code",
      "execution_count": null,
      "metadata": {
        "id": "lWpmyi7bgvFE",
        "outputId": "f0d33f4c-a212-4fe0-a801-bde55ec2b6bb"
      },
      "outputs": [
        {
          "data": {
            "text/plain": [
              "True"
            ]
          },
          "execution_count": 26,
          "metadata": {},
          "output_type": "execute_result"
        }
      ],
      "source": [
        "# Value true\n",
        "\n",
        "True"
      ]
    },
    {
      "cell_type": "markdown",
      "metadata": {
        "id": "hs9IdJhmgvFE"
      },
      "source": [
        "<p>Notice that the value <code>True</code> has an uppercase \"T\". The same is true for <code>False</code> (i.e. you must use the uppercase \"F\").</p>\n"
      ]
    },
    {
      "cell_type": "code",
      "execution_count": null,
      "metadata": {
        "id": "lgeh0e1tgvFE",
        "outputId": "7cd96159-2e78-40f3-8390-72bbfafe6686"
      },
      "outputs": [
        {
          "data": {
            "text/plain": [
              "False"
            ]
          },
          "execution_count": 27,
          "metadata": {},
          "output_type": "execute_result"
        }
      ],
      "source": [
        "# Value false\n",
        "\n",
        "False"
      ]
    },
    {
      "cell_type": "markdown",
      "metadata": {
        "id": "ORCivybwgvFF"
      },
      "source": [
        "<p>When you ask Python to display the type of a boolean object it will show <code>bool</code> which stands for <i>boolean</i>:</p>\n"
      ]
    },
    {
      "cell_type": "code",
      "execution_count": null,
      "metadata": {
        "id": "J-0Ff-ePgvFF",
        "outputId": "ba682e61-e717-47e8-c877-71bf8e6a5985"
      },
      "outputs": [
        {
          "data": {
            "text/plain": [
              "bool"
            ]
          },
          "execution_count": 28,
          "metadata": {},
          "output_type": "execute_result"
        }
      ],
      "source": [
        "# Type of True\n",
        "\n",
        "type(True)"
      ]
    },
    {
      "cell_type": "code",
      "execution_count": null,
      "metadata": {
        "id": "FY7CCj1AgvFF",
        "outputId": "5b53a533-120d-418f-dbc5-e450ec5025d5"
      },
      "outputs": [
        {
          "data": {
            "text/plain": [
              "bool"
            ]
          },
          "execution_count": 29,
          "metadata": {},
          "output_type": "execute_result"
        }
      ],
      "source": [
        "# Type of False\n",
        "\n",
        "type(False)"
      ]
    },
    {
      "cell_type": "markdown",
      "metadata": {
        "id": "fDkCR8cMgvFF"
      },
      "source": [
        "<p>We can cast boolean objects to other data types. If we cast a boolean with a value of <code>True</code> to an integer or float we will get a one. If we cast a boolean with a value of <code>False</code> to an integer or float we will get a zero. Similarly, if we cast a 1 to a Boolean, you get a <code>True</code>. And if we cast a 0 to a Boolean we will get a <code>False</code>. Let's give it a try:</p>\n"
      ]
    },
    {
      "cell_type": "code",
      "execution_count": null,
      "metadata": {
        "id": "UE1Va3MxgvFF",
        "outputId": "f99ace37-dde8-458c-e0b1-c3aa7883d89a"
      },
      "outputs": [
        {
          "data": {
            "text/plain": [
              "1"
            ]
          },
          "execution_count": 30,
          "metadata": {},
          "output_type": "execute_result"
        }
      ],
      "source": [
        "# Convert True to int\n",
        "\n",
        "int(True)"
      ]
    },
    {
      "cell_type": "code",
      "execution_count": null,
      "metadata": {
        "id": "MFxBRtndgvFG",
        "outputId": "b38c8c94-9eff-4479-f309-542fdf8698dd"
      },
      "outputs": [
        {
          "data": {
            "text/plain": [
              "True"
            ]
          },
          "execution_count": 31,
          "metadata": {},
          "output_type": "execute_result"
        }
      ],
      "source": [
        "# Convert 1 to boolean\n",
        "\n",
        "bool(1)"
      ]
    },
    {
      "cell_type": "code",
      "execution_count": null,
      "metadata": {
        "id": "CWxe1YsXgvFG",
        "outputId": "382ae65a-aa29-4679-e8d4-952e3e409be7"
      },
      "outputs": [
        {
          "data": {
            "text/plain": [
              "False"
            ]
          },
          "execution_count": 32,
          "metadata": {},
          "output_type": "execute_result"
        }
      ],
      "source": [
        "# Convert 0 to boolean\n",
        "\n",
        "bool(0)"
      ]
    },
    {
      "cell_type": "code",
      "execution_count": null,
      "metadata": {
        "id": "ek3t5bNngvFG",
        "outputId": "37f33239-e003-465c-af00-9632b7ccf384"
      },
      "outputs": [
        {
          "data": {
            "text/plain": [
              "1.0"
            ]
          },
          "execution_count": 33,
          "metadata": {},
          "output_type": "execute_result"
        }
      ],
      "source": [
        "# Convert True to float\n",
        "\n",
        "float(True)"
      ]
    },
    {
      "cell_type": "markdown",
      "metadata": {
        "id": "FcWwwAKRgvFG"
      },
      "source": [
        "### Exercise: Types\n"
      ]
    },
    {
      "cell_type": "markdown",
      "metadata": {
        "id": "UM6JkYKZgvFH"
      },
      "source": [
        "<p>What is the data type of the result of: <code>6 / 2</code>?</p>\n"
      ]
    },
    {
      "cell_type": "code",
      "execution_count": null,
      "metadata": {
        "id": "voJtw1HbgvFH",
        "outputId": "dc214c46-4cb2-4989-d5da-20d2874778c6"
      },
      "outputs": [
        {
          "data": {
            "text/plain": [
              "float"
            ]
          },
          "execution_count": 35,
          "metadata": {},
          "output_type": "execute_result"
        }
      ],
      "source": [
        "# Write your code below. Don't forget to press Shift+Enter to execute the cell\n",
        "type(6/2)"
      ]
    },
    {
      "cell_type": "markdown",
      "metadata": {
        "id": "q1pYF8xSgvFH"
      },
      "source": [
        "<p>What is the type of the result of: <code>6 // 2</code>? (Note the double slash <code>//</code>.)</p>\n"
      ]
    },
    {
      "cell_type": "code",
      "execution_count": null,
      "metadata": {
        "id": "7Vd8r0Z2gvFH",
        "outputId": "20e7149d-d48a-4492-d589-2a983848087e"
      },
      "outputs": [
        {
          "data": {
            "text/plain": [
              "int"
            ]
          },
          "execution_count": 36,
          "metadata": {},
          "output_type": "execute_result"
        }
      ],
      "source": [
        "# Write your code below. Don't forget to press Shift+Enter to execute the cell\n",
        "type(6//2)"
      ]
    },
    {
      "cell_type": "markdown",
      "metadata": {
        "id": "UTs-CD7DgvFI"
      },
      "source": [
        "What is the type of the result of: <code>\"Hello, World!\"</code>\n"
      ]
    },
    {
      "cell_type": "code",
      "execution_count": null,
      "metadata": {
        "id": "44QIvl90gvFI",
        "outputId": "49882c7e-f34d-45e1-8546-9d6693ba3b9e"
      },
      "outputs": [
        {
          "data": {
            "text/plain": [
              "str"
            ]
          },
          "execution_count": 37,
          "metadata": {},
          "output_type": "execute_result"
        }
      ],
      "source": [
        "# Write your code below. Don't forget to press Shift+Enter to execute the cell\n",
        "type(\"Hello, world!\")"
      ]
    },
    {
      "cell_type": "markdown",
      "metadata": {
        "id": "KESmBUBggvFI"
      },
      "source": [
        "What is the type of the result of: <code>\"hello\" == \"world\"</code>\n"
      ]
    },
    {
      "cell_type": "code",
      "execution_count": null,
      "metadata": {
        "id": "B8xFrV2TgvFI",
        "outputId": "5929fa18-2252-41c3-f79b-7e101d266653"
      },
      "outputs": [
        {
          "data": {
            "text/plain": [
              "bool"
            ]
          },
          "execution_count": 38,
          "metadata": {},
          "output_type": "execute_result"
        }
      ],
      "source": [
        "# Write your code below. Don't forget to press Shift+Enter to execute the cell\n",
        "type(\"hello\" == \"world\")"
      ]
    },
    {
      "cell_type": "markdown",
      "metadata": {
        "id": "jlF1GU-2gvFI"
      },
      "source": [
        "Write the code to convert the following number representing employeeid **\"1001\"** to an integer\n"
      ]
    },
    {
      "cell_type": "code",
      "execution_count": null,
      "metadata": {
        "id": "xXbCT4b3gvFJ",
        "outputId": "f29d89a4-5491-44e9-cd1f-40e8fb354792"
      },
      "outputs": [
        {
          "data": {
            "text/plain": [
              "1001"
            ]
          },
          "execution_count": 40,
          "metadata": {},
          "output_type": "execute_result"
        }
      ],
      "source": [
        "# Write your code below. Don't forget to press Shift+Enter to execute the cell\n",
        "int(\"1001\")"
      ]
    },
    {
      "cell_type": "markdown",
      "metadata": {
        "id": "m0HIj-ULgvFJ"
      },
      "source": [
        "Write the code to convert this number representing financial value **\"1234.56\"** to a floating point number\n"
      ]
    },
    {
      "cell_type": "code",
      "execution_count": null,
      "metadata": {
        "id": "t7M5D7b0gvFJ",
        "outputId": "a91694d7-a33d-4032-df00-24c63e5f1b02"
      },
      "outputs": [
        {
          "data": {
            "text/plain": [
              "1234.56"
            ]
          },
          "execution_count": 41,
          "metadata": {},
          "output_type": "execute_result"
        }
      ],
      "source": [
        "# Write your code below. Don't forget to press Shift+Enter to execute the cell\n",
        "float(\"1234.56\")"
      ]
    },
    {
      "cell_type": "markdown",
      "metadata": {
        "id": "um1RzJcIgvFJ"
      },
      "source": [
        "Write the code to convert this phone number **123-456-7890** to a string\n"
      ]
    },
    {
      "cell_type": "code",
      "execution_count": null,
      "metadata": {
        "id": "YUiIxIV5gvFJ",
        "outputId": "fbdba550-3a67-4feb-b015-acb764a29659"
      },
      "outputs": [
        {
          "data": {
            "text/plain": [
              "'123-456-7890'"
            ]
          },
          "execution_count": 46,
          "metadata": {},
          "output_type": "execute_result"
        }
      ],
      "source": [
        "# Write your code below. Don't forget to press Shift+Enter to execute the cell\n",
        "str(\"123-456-7890\")\n"
      ]
    },
    {
      "cell_type": "markdown",
      "source": [
        "### Basic Operations"
      ],
      "metadata": {
        "id": "tCMmudb_hl42"
      }
    },
    {
      "cell_type": "code",
      "source": [
        "#normal mathematical operations in python\n",
        "a=5\n",
        "b=2\n",
        "\n",
        "print(a+b) #addition\n",
        "print(a-b) #subtraction\n",
        "print(a*b) #multiplication\n",
        "print(a/b) #division (quotient)\n",
        "print(a//b) #floor division (quotient) - removing decimal value\n",
        "print(a%b) #module (remainder)\n",
        "print(a**b) #power (exponent)\n",
        "print(a**(1/2)) # square root"
      ],
      "metadata": {
        "colab": {
          "base_uri": "https://localhost:8080/"
        },
        "id": "n6HfrQm0hJup",
        "outputId": "1aa98675-ee4d-43e4-9106-c95a3c2cc260"
      },
      "execution_count": 1,
      "outputs": [
        {
          "output_type": "stream",
          "name": "stdout",
          "text": [
            "7\n",
            "3\n",
            "10\n",
            "2.5\n",
            "2\n",
            "1\n",
            "25\n",
            "2.23606797749979\n"
          ]
        }
      ]
    },
    {
      "cell_type": "code",
      "source": [
        "#type of the variable\n",
        "\n",
        "a=50\n",
        "b=50.9\n",
        "c='string'\n",
        "d=True\n",
        "print(type(a))\n",
        "print(type(b))\n",
        "print(type(c))\n",
        "print(type(d))"
      ],
      "metadata": {
        "colab": {
          "base_uri": "https://localhost:8080/"
        },
        "id": "THnW4SVqhMJo",
        "outputId": "4fe00c29-da12-4d9a-cc55-596a62cbc310"
      },
      "execution_count": 2,
      "outputs": [
        {
          "output_type": "stream",
          "name": "stdout",
          "text": [
            "<class 'int'>\n",
            "<class 'float'>\n",
            "<class 'str'>\n",
            "<class 'bool'>\n"
          ]
        }
      ]
    }
  ],
  "metadata": {
    "kernelspec": {
      "display_name": "Python 3 (ipykernel)",
      "language": "python",
      "name": "python3"
    },
    "language_info": {
      "codemirror_mode": {
        "name": "ipython",
        "version": 3
      },
      "file_extension": ".py",
      "mimetype": "text/x-python",
      "name": "python",
      "nbconvert_exporter": "python",
      "pygments_lexer": "ipython3",
      "version": "3.11.5"
    },
    "prev_pub_hash": "bf04fa8c6f54a0e7196d9d6ec7f24fb77c5cf48d3a1ff1353aa783d734c26e17",
    "colab": {
      "provenance": []
    }
  },
  "nbformat": 4,
  "nbformat_minor": 0
}