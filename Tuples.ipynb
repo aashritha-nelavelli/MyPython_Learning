{
  "cells": [
    {
      "cell_type": "markdown",
      "metadata": {
        "id": "dRdMemqo6vpU"
      },
      "source": [
        "<h2>Table of Contents</h2>\n",
        "<div class=\"alert alert-block alert-info\" style=\"margin-top: 20px\">\n",
        "    <ul>\n",
        "        <li>\n",
        "            <a href=\"#About-the-Dataset\">About the Dataset</a>\n",
        "        </li>\n",
        "        <li>\n",
        "            <a href=\"#Tuples\">Tuples</a>\n",
        "            <ul>\n",
        "                <li><a href=\"#Tuples with general example\">Tuples with general example</a></li>\n",
        "                <li><a href=\"#Tuples explanation with a example\">Tuples explanation with a example</a></li>\n",
        "            </ul>\n",
        "        </li>\n",
        "        <li>\n",
        "            <a href=\"#Quiz-on-Tuples\">Quiz on Tuples</a>\n",
        "        </li>\n",
        "    </ul>\n",
        "\n",
        "</div>\n",
        "\n",
        "<hr>\n"
      ]
    },
    {
      "cell_type": "markdown",
      "metadata": {
        "id": "FAVp3mjC6vpW"
      },
      "source": [
        "<h2 id=\"dataset\">About the Dataset</h2>\n"
      ]
    },
    {
      "cell_type": "markdown",
      "metadata": {
        "id": "tz4FDCKP6vpX"
      },
      "source": [
        "Imagine you received album recommendations from your friends and compiled all of the recommendations into a table, with specific information about each album.\n",
        "\n",
        "The table has one row for each movie and several columns:\n",
        "\n",
        "*   **Artist** - Name of the artist\n",
        "*   **Album** - Name of the album\n",
        "*   **Released_year** - Year the album was released\n",
        "*   **Length_min_sec** - Length of the album (hours,minutes,seconds)\n",
        "*   **Genre** - Genre of the album\n",
        "*   **Music_recording_sales_millions** - Music recording sales (millions in USD) on [SONG://DATABASE](http://www.song-database.com/?utm_medium=Exinfluencer&utm_source=Exinfluencer&utm_content=000026UJ&utm_term=10006555&utm_id=NA-SkillsNetwork-Channel-SkillsNetworkCoursesIBMDeveloperSkillsNetworkPY0101ENSkillsNetwork19487395-2021-01-01)\n",
        "*   **Claimed_sales_millions** - Album's claimed sales (millions in USD) on [SONG://DATABASE](http://www.song-database.com/?utm_medium=Exinfluencer&utm_source=Exinfluencer&utm_content=000026UJ&utm_term=10006555&utm_id=NA-SkillsNetwork-Channel-SkillsNetworkCoursesIBMDeveloperSkillsNetworkPY0101ENSkillsNetwork19487395-2021-01-01)\n",
        "*   **Date_released** - Date on which the album was released\n",
        "*   **Soundtrack** - Indicates if the album is the movie soundtrack (Y) or (N)\n",
        "*   **Rating_of_friends** - Indicates the rating from your friends from 1 to 10\n",
        "\n",
        "<br>\n",
        "<br>\n",
        "\n",
        "The dataset can be seen below:\n",
        "\n",
        "<font size=\"1\">\n",
        "<table font-size:xx-small>\n",
        "  <tr>\n",
        "    <th>Artist</th>\n",
        "    <th>Album</th>\n",
        "    <th>Released</th>\n",
        "    <th>Length</th>\n",
        "    <th>Genre</th>\n",
        "    <th>Music recording sales (millions)</th>\n",
        "    <th>Claimed sales (millions)</th>\n",
        "    <th>Released</th>\n",
        "    <th>Soundtrack</th>\n",
        "    <th>Rating (friends)</th>\n",
        "  </tr>\n",
        "  <tr>\n",
        "    <td>Michael Jackson</td>\n",
        "    <td>Thriller</td>\n",
        "    <td>1982</td>\n",
        "    <td>00:42:19</td>\n",
        "    <td>Pop, rock, R&B</td>\n",
        "    <td>46</td>\n",
        "    <td>65</td>\n",
        "    <td>30-Nov-82</td>\n",
        "    <td></td>\n",
        "    <td>10.0</td>\n",
        "  </tr>\n",
        "  <tr>\n",
        "    <td>AC/DC</td>\n",
        "    <td>Back in Black</td>\n",
        "    <td>1980</td>\n",
        "    <td>00:42:11</td>\n",
        "    <td>Hard rock</td>\n",
        "    <td>26.1</td>\n",
        "    <td>50</td>\n",
        "    <td>25-Jul-80</td>\n",
        "    <td></td>\n",
        "    <td>8.5</td>\n",
        "  </tr>\n",
        "    <tr>\n",
        "    <td>Pink Floyd</td>\n",
        "    <td>The Dark Side of the Moon</td>\n",
        "    <td>1973</td>\n",
        "    <td>00:42:49</td>\n",
        "    <td>Progressive rock</td>\n",
        "    <td>24.2</td>\n",
        "    <td>45</td>\n",
        "    <td>01-Mar-73</td>\n",
        "    <td></td>\n",
        "    <td>9.5</td>\n",
        "  </tr>\n",
        "    <tr>\n",
        "    <td>Whitney Houston</td>\n",
        "    <td>The Bodyguard</td>\n",
        "    <td>1992</td>\n",
        "    <td>00:57:44</td>\n",
        "    <td>Soundtrack/R&B, soul, pop</td>\n",
        "    <td>26.1</td>\n",
        "    <td>50</td>\n",
        "    <td>25-Jul-80</td>\n",
        "    <td>Y</td>\n",
        "    <td>7.0</td>\n",
        "  </tr>\n",
        "    <tr>\n",
        "    <td>Meat Loaf</td>\n",
        "    <td>Bat Out of Hell</td>\n",
        "    <td>1977</td>\n",
        "    <td>00:46:33</td>\n",
        "    <td>Hard rock, progressive rock</td>\n",
        "    <td>20.6</td>\n",
        "    <td>43</td>\n",
        "    <td>21-Oct-77</td>\n",
        "    <td></td>\n",
        "    <td>7.0</td>\n",
        "  </tr>\n",
        "    <tr>\n",
        "    <td>Eagles</td>\n",
        "    <td>Their Greatest Hits (1971-1975)</td>\n",
        "    <td>1976</td>\n",
        "    <td>00:43:08</td>\n",
        "    <td>Rock, soft rock, folk rock</td>\n",
        "    <td>32.2</td>\n",
        "    <td>42</td>\n",
        "    <td>17-Feb-76</td>\n",
        "    <td></td>\n",
        "    <td>9.5</td>\n",
        "  </tr>\n",
        "    <tr>\n",
        "    <td>Bee Gees</td>\n",
        "    <td>Saturday Night Fever</td>\n",
        "    <td>1977</td>\n",
        "    <td>1:15:54</td>\n",
        "    <td>Disco</td>\n",
        "    <td>20.6</td>\n",
        "    <td>40</td>\n",
        "    <td>15-Nov-77</td>\n",
        "    <td>Y</td>\n",
        "    <td>9.0</td>\n",
        "  </tr>\n",
        "    <tr>\n",
        "    <td>Fleetwood Mac</td>\n",
        "    <td>Rumours</td>\n",
        "    <td>1977</td>\n",
        "    <td>00:40:01</td>\n",
        "    <td>Soft rock</td>\n",
        "    <td>27.9</td>\n",
        "    <td>40</td>\n",
        "    <td>04-Feb-77</td>\n",
        "    <td></td>\n",
        "    <td>9.5</td>\n",
        "  </tr>\n",
        "</table></font>\n"
      ]
    },
    {
      "cell_type": "markdown",
      "metadata": {
        "id": "vttUtHMV6vpZ"
      },
      "source": [
        "<hr>\n"
      ]
    },
    {
      "cell_type": "markdown",
      "metadata": {
        "id": "91i8QwlN6vpZ"
      },
      "source": [
        "<h2 id=\"tuple\">Tuples</h2>\n"
      ]
    },
    {
      "cell_type": "markdown",
      "source": [
        "### Tuples with general example\n"
      ],
      "metadata": {
        "id": "SZhIEAvC67zr"
      }
    },
    {
      "cell_type": "code",
      "source": [
        "tuple_1=(1,2,3,4,5,0.87)"
      ],
      "metadata": {
        "id": "lyNW8s9V6_en"
      },
      "execution_count": 1,
      "outputs": []
    },
    {
      "cell_type": "code",
      "source": [
        "tuple_1.append(5)  #we cannot edit tuple like append, insert, remove so it is immutable\n",
        "print(tuple_1)\n",
        "tuple_1.insert(3,'insert')\n",
        "tuple_1.remove(965)"
      ],
      "metadata": {
        "colab": {
          "base_uri": "https://localhost:8080/",
          "height": 198
        },
        "id": "57BLbru07ErC",
        "outputId": "72e0f07a-2706-4463-981f-c2e77096574e"
      },
      "execution_count": 6,
      "outputs": [
        {
          "output_type": "error",
          "ename": "AttributeError",
          "evalue": "'tuple' object has no attribute 'append'",
          "traceback": [
            "\u001b[0;31m---------------------------------------------------------------------------\u001b[0m",
            "\u001b[0;31mAttributeError\u001b[0m                            Traceback (most recent call last)",
            "\u001b[0;32m<ipython-input-6-2f42748f3eef>\u001b[0m in \u001b[0;36m<cell line: 0>\u001b[0;34m()\u001b[0m\n\u001b[0;32m----> 1\u001b[0;31m \u001b[0mtuple_1\u001b[0m\u001b[0;34m.\u001b[0m\u001b[0mappend\u001b[0m\u001b[0;34m(\u001b[0m\u001b[0;36m5\u001b[0m\u001b[0;34m)\u001b[0m  \u001b[0;31m#we cannot edit tuple like append so it is immutable\u001b[0m\u001b[0;34m\u001b[0m\u001b[0;34m\u001b[0m\u001b[0m\n\u001b[0m\u001b[1;32m      2\u001b[0m \u001b[0mprint\u001b[0m\u001b[0;34m(\u001b[0m\u001b[0mtuple_1\u001b[0m\u001b[0;34m)\u001b[0m\u001b[0;34m\u001b[0m\u001b[0;34m\u001b[0m\u001b[0m\n\u001b[1;32m      3\u001b[0m \u001b[0mtuple_1\u001b[0m\u001b[0;34m.\u001b[0m\u001b[0minsert\u001b[0m\u001b[0;34m(\u001b[0m\u001b[0;36m3\u001b[0m\u001b[0;34m,\u001b[0m\u001b[0;34m'insert'\u001b[0m\u001b[0;34m)\u001b[0m\u001b[0;34m\u001b[0m\u001b[0;34m\u001b[0m\u001b[0m\n\u001b[1;32m      4\u001b[0m \u001b[0mtuple_1\u001b[0m\u001b[0;34m.\u001b[0m\u001b[0mremove\u001b[0m\u001b[0;34m(\u001b[0m\u001b[0;36m965\u001b[0m\u001b[0;34m)\u001b[0m\u001b[0;34m\u001b[0m\u001b[0;34m\u001b[0m\u001b[0m\n",
            "\u001b[0;31mAttributeError\u001b[0m: 'tuple' object has no attribute 'append'"
          ]
        }
      ]
    },
    {
      "cell_type": "code",
      "source": [
        "type(tuple_1)"
      ],
      "metadata": {
        "colab": {
          "base_uri": "https://localhost:8080/"
        },
        "id": "dait_dU-7H7o",
        "outputId": "ad7bb2b2-02b3-46d7-ac45-875e6497aaef"
      },
      "execution_count": 3,
      "outputs": [
        {
          "output_type": "execute_result",
          "data": {
            "text/plain": [
              "tuple"
            ]
          },
          "metadata": {},
          "execution_count": 3
        }
      ]
    },
    {
      "cell_type": "code",
      "source": [
        "tup2=sorted(tuple_1) #if it is sorted tuple is saved as a list\n",
        "print(tup2)\n",
        "type(tup2)"
      ],
      "metadata": {
        "colab": {
          "base_uri": "https://localhost:8080/"
        },
        "id": "kHWvyVNA7KVv",
        "outputId": "80e1cae2-8c52-41db-8b4c-92a3b59c666b"
      },
      "execution_count": 4,
      "outputs": [
        {
          "output_type": "stream",
          "name": "stdout",
          "text": [
            "[0.87, 1, 2, 3, 4, 5]\n"
          ]
        },
        {
          "output_type": "execute_result",
          "data": {
            "text/plain": [
              "list"
            ]
          },
          "metadata": {},
          "execution_count": 4
        }
      ]
    },
    {
      "cell_type": "code",
      "source": [
        "#slicing is possible\n",
        "tuple_1[0:3]"
      ],
      "metadata": {
        "colab": {
          "base_uri": "https://localhost:8080/"
        },
        "id": "fPj45ulR7LRa",
        "outputId": "8d96b38b-3e8f-4630-aaae-97fe4f78b469"
      },
      "execution_count": 5,
      "outputs": [
        {
          "output_type": "execute_result",
          "data": {
            "text/plain": [
              "(1, 2, 3)"
            ]
          },
          "metadata": {},
          "execution_count": 5
        }
      ]
    },
    {
      "cell_type": "code",
      "source": [
        "sum(tuple_1)"
      ],
      "metadata": {
        "colab": {
          "base_uri": "https://localhost:8080/"
        },
        "id": "r-aWki1x7Obg",
        "outputId": "20a041d3-1071-459d-e7dc-0aa49f4d7f42"
      },
      "execution_count": 8,
      "outputs": [
        {
          "output_type": "execute_result",
          "data": {
            "text/plain": [
              "15.87"
            ]
          },
          "metadata": {},
          "execution_count": 8
        }
      ]
    },
    {
      "cell_type": "code",
      "source": [
        "max(tuple_1)"
      ],
      "metadata": {
        "colab": {
          "base_uri": "https://localhost:8080/"
        },
        "id": "XyPsJpXr74fP",
        "outputId": "22692fd8-5446-40d6-eccb-b7de92d00797"
      },
      "execution_count": 9,
      "outputs": [
        {
          "output_type": "execute_result",
          "data": {
            "text/plain": [
              "5"
            ]
          },
          "metadata": {},
          "execution_count": 9
        }
      ]
    },
    {
      "cell_type": "code",
      "source": [
        "min(tuple_1)"
      ],
      "metadata": {
        "colab": {
          "base_uri": "https://localhost:8080/"
        },
        "id": "g79NtBB276ya",
        "outputId": "6a22d608-0cd9-4559-d2f5-830769015144"
      },
      "execution_count": 10,
      "outputs": [
        {
          "output_type": "execute_result",
          "data": {
            "text/plain": [
              "0.87"
            ]
          },
          "metadata": {},
          "execution_count": 10
        }
      ]
    },
    {
      "cell_type": "code",
      "source": [
        "list_1=[825, 965, 32.58, 98.32, 9, 87]\n",
        "type(list_1)"
      ],
      "metadata": {
        "colab": {
          "base_uri": "https://localhost:8080/"
        },
        "id": "ROQ0DWou7_fb",
        "outputId": "44dfc146-4fe7-4f35-c7b6-97de764bcfc5"
      },
      "execution_count": 11,
      "outputs": [
        {
          "output_type": "execute_result",
          "data": {
            "text/plain": [
              "list"
            ]
          },
          "metadata": {},
          "execution_count": 11
        }
      ]
    },
    {
      "cell_type": "code",
      "source": [
        "tuple_1=tuple(list_1)\n",
        "type(tuple_1)"
      ],
      "metadata": {
        "colab": {
          "base_uri": "https://localhost:8080/"
        },
        "id": "CrthVMXM8CCe",
        "outputId": "7bdc1876-6389-4738-bbaf-3c640ad6c6cb"
      },
      "execution_count": 12,
      "outputs": [
        {
          "output_type": "execute_result",
          "data": {
            "text/plain": [
              "tuple"
            ]
          },
          "metadata": {},
          "execution_count": 12
        }
      ]
    },
    {
      "cell_type": "code",
      "source": [
        "list_2=list(tuple_1)\n",
        "type(list_2)"
      ],
      "metadata": {
        "colab": {
          "base_uri": "https://localhost:8080/"
        },
        "id": "bl54KRTi8J1j",
        "outputId": "1445217d-33e8-43f5-dbb7-82b0463d3b0d"
      },
      "execution_count": 13,
      "outputs": [
        {
          "output_type": "execute_result",
          "data": {
            "text/plain": [
              "list"
            ]
          },
          "metadata": {},
          "execution_count": 13
        }
      ]
    },
    {
      "cell_type": "markdown",
      "source": [
        "### Tuples explanation with a example"
      ],
      "metadata": {
        "id": "AhwnU7QM8PJL"
      }
    },
    {
      "cell_type": "markdown",
      "metadata": {
        "id": "-WFsfHbk6vpZ"
      },
      "source": [
        "In Python, there are different data types: String, Integer, and Float. These data types can all be contained in a tuple as follows:\n"
      ]
    },
    {
      "cell_type": "markdown",
      "metadata": {
        "id": "xqdfvsRM6vpa"
      },
      "source": [
        "<img src=\"https://cf-courses-data.s3.us.cloud-object-storage.appdomain.cloud/IBMDeveloperSkillsNetwork-PY0101EN-SkillsNetwork/labs/Module%202/images/TuplesType.png\" width=\"750\" align=\"center\">\n"
      ]
    },
    {
      "cell_type": "markdown",
      "metadata": {
        "id": "A2CtJ77I6vpa"
      },
      "source": [
        "Now, let us create your first tuple with string, integer and float.\n"
      ]
    },
    {
      "cell_type": "code",
      "execution_count": null,
      "metadata": {
        "id": "BxoNVpuM6vpa",
        "outputId": "5190e0bf-a551-45e2-ed55-edd45466a687"
      },
      "outputs": [
        {
          "data": {
            "text/plain": [
              "('disco', 10, 1.2)"
            ]
          },
          "execution_count": 1,
          "metadata": {},
          "output_type": "execute_result"
        }
      ],
      "source": [
        "# Create your first tuple\n",
        "\n",
        "tuple1 = (\"disco\",10,1.2 )\n",
        "tuple1"
      ]
    },
    {
      "cell_type": "markdown",
      "metadata": {
        "id": "wK6qlV-z6vpf"
      },
      "source": [
        "The type of variable is a **tuple**.\n"
      ]
    },
    {
      "cell_type": "code",
      "execution_count": null,
      "metadata": {
        "id": "sFOEUQz16vpg",
        "outputId": "92726233-256e-461b-8bd5-e2e9cf42a5f3"
      },
      "outputs": [
        {
          "data": {
            "text/plain": [
              "tuple"
            ]
          },
          "execution_count": 2,
          "metadata": {},
          "output_type": "execute_result"
        }
      ],
      "source": [
        "# Print the type of the tuple you created\n",
        "\n",
        "type(tuple1)"
      ]
    },
    {
      "cell_type": "markdown",
      "metadata": {
        "id": "1b-JBat46vph"
      },
      "source": [
        "<h3 id=\"index\">Indexing</h3>\n"
      ]
    },
    {
      "cell_type": "markdown",
      "metadata": {
        "id": "cipwssGq6vph"
      },
      "source": [
        "Each element of a tuple can be accessed via an index. The following table represents the relationship between the index and the items in the tuple. Each element can be obtained by the name of the tuple followed by a square bracket with the index number:\n"
      ]
    },
    {
      "cell_type": "markdown",
      "metadata": {
        "id": "3vTl3Cca6vph"
      },
      "source": [
        "<img src=\"https://cf-courses-data.s3.us.cloud-object-storage.appdomain.cloud/IBMDeveloperSkillsNetwork-PY0101EN-SkillsNetwork/labs/Module%202/images/TuplesIndex.gif\" width=\"750\" align=\"center\">\n"
      ]
    },
    {
      "cell_type": "markdown",
      "metadata": {
        "id": "frJxpchn6vph"
      },
      "source": [
        "We can print out each value in the tuple:\n"
      ]
    },
    {
      "cell_type": "code",
      "execution_count": null,
      "metadata": {
        "id": "uzZ2pJwY6vpi",
        "outputId": "264d7999-2401-42eb-e539-c7ff13fb71d8"
      },
      "outputs": [
        {
          "name": "stdout",
          "output_type": "stream",
          "text": [
            "disco\n",
            "10\n",
            "1.2\n"
          ]
        }
      ],
      "source": [
        "# Print the variable on each index\n",
        "\n",
        "print(tuple1[0])\n",
        "print(tuple1[1])\n",
        "print(tuple1[2])"
      ]
    },
    {
      "cell_type": "markdown",
      "metadata": {
        "id": "6GNIGzjZ6vpi"
      },
      "source": [
        "We can print out the **type** of each value in the tuple:\n"
      ]
    },
    {
      "cell_type": "code",
      "execution_count": null,
      "metadata": {
        "id": "ZtJ_Lr9m6vpi",
        "outputId": "27ceb3e3-717f-4f1c-f083-6f16ac0c446f"
      },
      "outputs": [
        {
          "name": "stdout",
          "output_type": "stream",
          "text": [
            "<class 'str'>\n",
            "<class 'int'>\n",
            "<class 'float'>\n"
          ]
        }
      ],
      "source": [
        "# Print the type of value on each index\n",
        "\n",
        "print(type(tuple1[0]))\n",
        "print(type(tuple1[1]))\n",
        "print(type(tuple1[2]))"
      ]
    },
    {
      "cell_type": "markdown",
      "metadata": {
        "id": "3pq-uXyQ6vpi"
      },
      "source": [
        "We can also use negative indexing. We use the same table above with corresponding negative values:\n"
      ]
    },
    {
      "cell_type": "markdown",
      "metadata": {
        "id": "s4pnerXJ6vpj"
      },
      "source": [
        "<img src=\"https://cf-courses-data.s3.us.cloud-object-storage.appdomain.cloud/IBMDeveloperSkillsNetwork-PY0101EN-SkillsNetwork/labs/Module%202/images/TuplesNeg.png\" width=\"750\" align=\"center\">\n"
      ]
    },
    {
      "cell_type": "markdown",
      "metadata": {
        "id": "Zk6y36YN6vpj"
      },
      "source": [
        "We can obtain the last element as follows (this time we will not use the print statement to display the values):\n"
      ]
    },
    {
      "cell_type": "code",
      "execution_count": null,
      "metadata": {
        "id": "xg6ko8dL6vpj",
        "outputId": "95cacabd-2fa2-4773-f14b-a489e3ff2ab3"
      },
      "outputs": [
        {
          "data": {
            "text/plain": [
              "1.2"
            ]
          },
          "execution_count": 5,
          "metadata": {},
          "output_type": "execute_result"
        }
      ],
      "source": [
        "# Use negative index to get the value of the last element\n",
        "\n",
        "tuple1[-1]"
      ]
    },
    {
      "cell_type": "markdown",
      "metadata": {
        "id": "aKiQtJPx6vpj"
      },
      "source": [
        "We can display the next two elements as follows:\n"
      ]
    },
    {
      "cell_type": "code",
      "execution_count": null,
      "metadata": {
        "id": "NSniIYaM6vpk",
        "outputId": "cf3927ad-28ca-44c6-ae2f-916b134c6f0c"
      },
      "outputs": [
        {
          "data": {
            "text/plain": [
              "10"
            ]
          },
          "execution_count": 6,
          "metadata": {},
          "output_type": "execute_result"
        }
      ],
      "source": [
        "# Use negative index to get the value of the second last element\n",
        "\n",
        "tuple1[-2]"
      ]
    },
    {
      "cell_type": "code",
      "execution_count": null,
      "metadata": {
        "id": "-Lbg0TaU6vpk",
        "outputId": "d19eedbb-08f4-4804-dbd8-721dce5f1989"
      },
      "outputs": [
        {
          "data": {
            "text/plain": [
              "'disco'"
            ]
          },
          "execution_count": 7,
          "metadata": {},
          "output_type": "execute_result"
        }
      ],
      "source": [
        "# Use negative index to get the value of the third last element\n",
        "\n",
        "tuple1[-3]"
      ]
    },
    {
      "cell_type": "markdown",
      "metadata": {
        "id": "kHh7PYiO6vpk"
      },
      "source": [
        "<h3 id=\"concate\">Concatenate Tuples</h3>\n"
      ]
    },
    {
      "cell_type": "markdown",
      "metadata": {
        "id": "EsPtbybp6vpl"
      },
      "source": [
        "We can concatenate or combine tuples by using the **+** sign:\n"
      ]
    },
    {
      "cell_type": "code",
      "execution_count": null,
      "metadata": {
        "id": "bJFyNFsq6vpl",
        "outputId": "41572f07-8d56-4856-be6f-6e81c85d9f75"
      },
      "outputs": [
        {
          "data": {
            "text/plain": [
              "('disco', 10, 1.2, 'hard rock', 10)"
            ]
          },
          "execution_count": 8,
          "metadata": {},
          "output_type": "execute_result"
        }
      ],
      "source": [
        "# Concatenate two tuples\n",
        "\n",
        "tuple2 = tuple1 + (\"hard rock\", 10)\n",
        "tuple2"
      ]
    },
    {
      "cell_type": "markdown",
      "metadata": {
        "id": "Cj66P84r6vpl"
      },
      "source": [
        "We can slice tuples obtaining multiple values as demonstrated by the figure below:\n"
      ]
    },
    {
      "cell_type": "markdown",
      "metadata": {
        "id": "h2iXonRV6vpl"
      },
      "source": [
        "<img src=\"https://cf-courses-data.s3.us.cloud-object-storage.appdomain.cloud/IBMDeveloperSkillsNetwork-PY0101EN-SkillsNetwork/labs/Module%202/images/TuplesSlice.gif\" width=\"750\" align=\"center\">\n"
      ]
    },
    {
      "cell_type": "markdown",
      "metadata": {
        "id": "uFf9fXTS6vpl"
      },
      "source": [
        "<h3 id=\"slice\">Slicing</h3>\n"
      ]
    },
    {
      "cell_type": "markdown",
      "metadata": {
        "id": "wc2yAfFR6vpl"
      },
      "source": [
        "We can slice tuples, obtaining new tuples with the corresponding elements:\n"
      ]
    },
    {
      "cell_type": "code",
      "execution_count": null,
      "metadata": {
        "id": "Wti7WM486vpm",
        "outputId": "c0e40ff9-1944-4c3b-d91c-ee5b36aecaa7"
      },
      "outputs": [
        {
          "data": {
            "text/plain": [
              "('disco', 10, 1.2)"
            ]
          },
          "execution_count": 9,
          "metadata": {},
          "output_type": "execute_result"
        }
      ],
      "source": [
        "# Slice from index 0 to index 2\n",
        "\n",
        "tuple2[0:3]"
      ]
    },
    {
      "cell_type": "markdown",
      "metadata": {
        "id": "1YQ3GRuD6vpm"
      },
      "source": [
        "We can obtain the last two elements of the tuple:\n"
      ]
    },
    {
      "cell_type": "code",
      "execution_count": null,
      "metadata": {
        "id": "H8PxqRSk6vpm",
        "outputId": "e8af3593-23a2-4eca-8215-17bff2a5327a"
      },
      "outputs": [
        {
          "data": {
            "text/plain": [
              "('hard rock', 10)"
            ]
          },
          "execution_count": 10,
          "metadata": {},
          "output_type": "execute_result"
        }
      ],
      "source": [
        "# Slice from index 3 to index 4\n",
        "\n",
        "tuple2[3:5]"
      ]
    },
    {
      "cell_type": "markdown",
      "metadata": {
        "id": "udQK5uir6vpn"
      },
      "source": [
        "We can obtain the length of a tuple using the length command:\n"
      ]
    },
    {
      "cell_type": "code",
      "execution_count": null,
      "metadata": {
        "id": "MRFs6Kza6vpn",
        "outputId": "02f9d617-6724-4f74-f4b7-a9328967afa0"
      },
      "outputs": [
        {
          "data": {
            "text/plain": [
              "5"
            ]
          },
          "execution_count": 11,
          "metadata": {},
          "output_type": "execute_result"
        }
      ],
      "source": [
        "# Get the length of tuple\n",
        "\n",
        "len(tuple2)"
      ]
    },
    {
      "cell_type": "markdown",
      "metadata": {
        "id": "t3Y01JAa6vpn"
      },
      "source": [
        "This figure shows the number of elements:\n"
      ]
    },
    {
      "cell_type": "markdown",
      "metadata": {
        "id": "yY9-p8tB6vpn"
      },
      "source": [
        "<img src=\"https://cf-courses-data.s3.us.cloud-object-storage.appdomain.cloud/IBMDeveloperSkillsNetwork-PY0101EN-SkillsNetwork/labs/Module%202/images/TuplesElement.png\" width=\"750\" align=\"center\">\n"
      ]
    },
    {
      "cell_type": "markdown",
      "metadata": {
        "id": "TKjkpgKX6vpo"
      },
      "source": [
        "<h3 id=\"sort\">Sorting</h3>\n"
      ]
    },
    {
      "cell_type": "markdown",
      "metadata": {
        "id": "Jn3oQSRH6vpo"
      },
      "source": [
        "Consider the following tuple:\n"
      ]
    },
    {
      "cell_type": "code",
      "execution_count": null,
      "metadata": {
        "id": "HNmio76I6vpo"
      },
      "outputs": [],
      "source": [
        "# A sample tuple\n",
        "\n",
        "Ratings = (0, 9, 6, 5, 10, 8, 9, 6, 2)"
      ]
    },
    {
      "cell_type": "markdown",
      "metadata": {
        "id": "VJMXBbH16vpo"
      },
      "source": [
        "We can sort the values in a tuple and save it to a new tuple:\n"
      ]
    },
    {
      "cell_type": "code",
      "execution_count": null,
      "metadata": {
        "id": "ZK4-Ytq36vpo",
        "outputId": "b9e94b5e-b051-4b07-e1a1-21d32b22e7d7"
      },
      "outputs": [
        {
          "data": {
            "text/plain": [
              "[0, 2, 5, 6, 6, 8, 9, 9, 10]"
            ]
          },
          "execution_count": 13,
          "metadata": {},
          "output_type": "execute_result"
        }
      ],
      "source": [
        "# Sort the tuple\n",
        "\n",
        "RatingsSorted = sorted(Ratings)\n",
        "RatingsSorted"
      ]
    },
    {
      "cell_type": "markdown",
      "metadata": {
        "id": "osk6ERAc6vpp"
      },
      "source": [
        "<h3 id=\"nest\">Nested Tuple</h3>\n"
      ]
    },
    {
      "cell_type": "markdown",
      "metadata": {
        "id": "xmupNw3Q6vpp"
      },
      "source": [
        "A tuple can contain another tuple as well as other more complex data types. This process is called 'nesting'. Consider the following tuple with several elements:\n"
      ]
    },
    {
      "cell_type": "code",
      "execution_count": null,
      "metadata": {
        "id": "s7aazFdm6vpp"
      },
      "outputs": [],
      "source": [
        "# Create a nest tuple\n",
        "\n",
        "NestedT =(1, 2, (\"pop\", \"rock\") ,(3,4),(\"disco\",(1,2)))"
      ]
    },
    {
      "cell_type": "markdown",
      "metadata": {
        "id": "YA-8AYue6vpq"
      },
      "source": [
        "Each element in the tuple, including other tuples, can be obtained via an index as shown in the figure:\n"
      ]
    },
    {
      "cell_type": "markdown",
      "metadata": {
        "id": "NkdqK7og6vpq"
      },
      "source": [
        "<img src=\"https://cf-courses-data.s3.us.cloud-object-storage.appdomain.cloud/IBMDeveloperSkillsNetwork-PY0101EN-SkillsNetwork/labs/Module%202/images/TuplesNestOne.png\" width=\"750\" align=\"center\">\n"
      ]
    },
    {
      "cell_type": "code",
      "execution_count": null,
      "metadata": {
        "id": "cl--gft36vpq",
        "outputId": "6b9337f2-0794-4b7e-85e0-1e35e6e4357d"
      },
      "outputs": [
        {
          "name": "stdout",
          "output_type": "stream",
          "text": [
            "Element 0 of Tuple:  1\n",
            "Element 1 of Tuple:  2\n",
            "Element 2 of Tuple:  ('pop', 'rock')\n",
            "Element 3 of Tuple:  (3, 4)\n",
            "Element 4 of Tuple:  ('disco', (1, 2))\n"
          ]
        }
      ],
      "source": [
        "# Print element on each index\n",
        "\n",
        "print(\"Element 0 of Tuple: \", NestedT[0])\n",
        "print(\"Element 1 of Tuple: \", NestedT[1])\n",
        "print(\"Element 2 of Tuple: \", NestedT[2])\n",
        "print(\"Element 3 of Tuple: \", NestedT[3])\n",
        "print(\"Element 4 of Tuple: \", NestedT[4])"
      ]
    },
    {
      "cell_type": "markdown",
      "metadata": {
        "id": "zELdGX0K6vpq"
      },
      "source": [
        "We can use the second index to access other tuples as demonstrated in the figure:\n"
      ]
    },
    {
      "cell_type": "markdown",
      "metadata": {
        "id": "nNP5Q0IU6vpr"
      },
      "source": [
        "<img src=\"https://cf-courses-data.s3.us.cloud-object-storage.appdomain.cloud/IBMDeveloperSkillsNetwork-PY0101EN-SkillsNetwork/labs/Module%202/images/TuplesNestTwo.png\" width=\"750\" align=\"center\">\n"
      ]
    },
    {
      "cell_type": "markdown",
      "metadata": {
        "id": "gthGZPvP6vpr"
      },
      "source": [
        "We can access the nested tuples:\n"
      ]
    },
    {
      "cell_type": "code",
      "execution_count": null,
      "metadata": {
        "id": "g8kfNv5e6vpr",
        "outputId": "74467f9e-0973-4dae-ebec-68e3734dbbd9"
      },
      "outputs": [
        {
          "name": "stdout",
          "output_type": "stream",
          "text": [
            "Element 2, 0 of Tuple:  pop\n",
            "Element 2, 1 of Tuple:  rock\n",
            "Element 3, 0 of Tuple:  3\n",
            "Element 3, 1 of Tuple:  4\n",
            "Element 4, 0 of Tuple:  disco\n",
            "Element 4, 1 of Tuple:  (1, 2)\n"
          ]
        }
      ],
      "source": [
        "# Print element on each index, including nest indexes\n",
        "\n",
        "print(\"Element 2, 0 of Tuple: \",   NestedT[2][0])\n",
        "print(\"Element 2, 1 of Tuple: \",   NestedT[2][1])\n",
        "print(\"Element 3, 0 of Tuple: \",   NestedT[3][0])\n",
        "print(\"Element 3, 1 of Tuple: \",   NestedT[3][1])\n",
        "print(\"Element 4, 0 of Tuple: \",   NestedT[4][0])\n",
        "print(\"Element 4, 1 of Tuple: \",   NestedT[4][1])"
      ]
    },
    {
      "cell_type": "markdown",
      "metadata": {
        "id": "RH0q1a_X6vps"
      },
      "source": [
        "We can access strings in the second nested tuples using a third index:\n"
      ]
    },
    {
      "cell_type": "code",
      "execution_count": null,
      "metadata": {
        "id": "Kz0eQlrX6vps",
        "outputId": "ca2acb49-da0f-434e-db6c-49b5c5ab846d"
      },
      "outputs": [
        {
          "data": {
            "text/plain": [
              "'r'"
            ]
          },
          "execution_count": 17,
          "metadata": {},
          "output_type": "execute_result"
        }
      ],
      "source": [
        "# Print the first element in the second nested tuples\n",
        "\n",
        "NestedT[2][1][0]"
      ]
    },
    {
      "cell_type": "code",
      "execution_count": null,
      "metadata": {
        "id": "PK9MBx1S6vps",
        "outputId": "6640b269-7946-4720-ab3b-91681627b805"
      },
      "outputs": [
        {
          "data": {
            "text/plain": [
              "'o'"
            ]
          },
          "execution_count": 18,
          "metadata": {},
          "output_type": "execute_result"
        }
      ],
      "source": [
        "# Print the second element in the second nested tuples\n",
        "\n",
        "NestedT[2][1][1]"
      ]
    },
    {
      "cell_type": "markdown",
      "metadata": {
        "id": "R-fpw7Xn6vpt"
      },
      "source": [
        "We can use a tree to visualise the process. Each new index corresponds to a deeper level in the tree:\n"
      ]
    },
    {
      "cell_type": "markdown",
      "metadata": {
        "id": "eknuHSKX6vpt"
      },
      "source": [
        "<img src=\"https://cf-courses-data.s3.us.cloud-object-storage.appdomain.cloud/IBMDeveloperSkillsNetwork-PY0101EN-SkillsNetwork/labs/Module%202/images/TuplesNestThree.gif\" width=\"750\" align=\"center\">\n"
      ]
    },
    {
      "cell_type": "markdown",
      "metadata": {
        "id": "dOdnlWw_6vpt"
      },
      "source": [
        "Similarly, we can access elements nested deeper in the tree with a third index:\n"
      ]
    },
    {
      "cell_type": "code",
      "execution_count": null,
      "metadata": {
        "id": "PAEdePW96vpt",
        "outputId": "404e4b1e-79c4-42f0-983a-0f697cf13e54"
      },
      "outputs": [
        {
          "data": {
            "text/plain": [
              "1"
            ]
          },
          "execution_count": 19,
          "metadata": {},
          "output_type": "execute_result"
        }
      ],
      "source": [
        "# Print the first element in the second nested tuples\n",
        "\n",
        "NestedT[4][1][0]"
      ]
    },
    {
      "cell_type": "code",
      "execution_count": null,
      "metadata": {
        "id": "yOh3mMDz6vpt",
        "outputId": "0bd944f3-01c3-4a8c-84ca-f31172f74871"
      },
      "outputs": [
        {
          "data": {
            "text/plain": [
              "2"
            ]
          },
          "execution_count": 20,
          "metadata": {},
          "output_type": "execute_result"
        }
      ],
      "source": [
        "# Print the second element in the second nested tuples\n",
        "\n",
        "NestedT[4][1][1]"
      ]
    },
    {
      "cell_type": "markdown",
      "metadata": {
        "id": "NyWwlHTY6vpu"
      },
      "source": [
        "The following figure shows the relationship of the tree and the element <code>NestedT\\[4]\\[1]\\[1]</code>:\n"
      ]
    },
    {
      "cell_type": "markdown",
      "metadata": {
        "id": "zeAEygZU6vpu"
      },
      "source": [
        "<img src=\"https://cf-courses-data.s3.us.cloud-object-storage.appdomain.cloud/IBMDeveloperSkillsNetwork-PY0101EN-SkillsNetwork/labs/Module%202/images/TuplesNestFour.gif\" width=\"750\" align=\"center\">\n"
      ]
    },
    {
      "cell_type": "markdown",
      "metadata": {
        "id": "YoPg7Qby6vpu"
      },
      "source": [
        "<h2 id=\"quiz\">Quiz on Tuples</h2>\n"
      ]
    },
    {
      "cell_type": "markdown",
      "metadata": {
        "id": "ZSwlbaFH6vpu"
      },
      "source": [
        "Consider the following tuple:\n"
      ]
    },
    {
      "cell_type": "code",
      "execution_count": null,
      "metadata": {
        "id": "h2WpJgBK6vpu",
        "outputId": "1bc29b6c-83c3-49b1-f5c5-c57412971b6f"
      },
      "outputs": [
        {
          "data": {
            "text/plain": [
              "('pop',\n",
              " 'rock',\n",
              " 'soul',\n",
              " 'hard rock',\n",
              " 'soft rock',\n",
              " 'R&B',\n",
              " 'progressive rock',\n",
              " 'disco')"
            ]
          },
          "execution_count": 21,
          "metadata": {},
          "output_type": "execute_result"
        }
      ],
      "source": [
        "# sample tuple\n",
        "\n",
        "genres_tuple = (\"pop\", \"rock\", \"soul\", \"hard rock\", \"soft rock\", \\\n",
        "                \"R&B\", \"progressive rock\", \"disco\")\n",
        "genres_tuple"
      ]
    },
    {
      "cell_type": "markdown",
      "metadata": {
        "id": "dC8vxi_o6vpu"
      },
      "source": [
        "Find the length of the tuple, <code>genres_tuple</code>:\n"
      ]
    },
    {
      "cell_type": "code",
      "execution_count": null,
      "metadata": {
        "id": "iQTPQZI16vpv",
        "outputId": "86a42ea7-3075-43bd-fa2c-1c4f3ce32f26"
      },
      "outputs": [
        {
          "data": {
            "text/plain": [
              "8"
            ]
          },
          "execution_count": 22,
          "metadata": {},
          "output_type": "execute_result"
        }
      ],
      "source": [
        "# Write your code below and press Shift+Enter to execute\n",
        "len(genres_tuple)"
      ]
    },
    {
      "cell_type": "markdown",
      "metadata": {
        "id": "lY7Tggk06vpv"
      },
      "source": [
        "<img src=\"https://cf-courses-data.s3.us.cloud-object-storage.appdomain.cloud/IBMDeveloperSkillsNetwork-PY0101EN-SkillsNetwork/labs/Module%202/images/TuplesQuiz.png\" width=\"1100\" align=\"center\">\n"
      ]
    },
    {
      "cell_type": "markdown",
      "metadata": {
        "id": "ZiVQDsGG6vpv"
      },
      "source": [
        "Access the element, with respect to index 3:\n"
      ]
    },
    {
      "cell_type": "code",
      "execution_count": null,
      "metadata": {
        "id": "WyqZDuwW6vpv",
        "outputId": "528771f6-a3f9-4145-eb2d-2d35b524c7b8"
      },
      "outputs": [
        {
          "data": {
            "text/plain": [
              "'hard rock'"
            ]
          },
          "execution_count": 23,
          "metadata": {},
          "output_type": "execute_result"
        }
      ],
      "source": [
        "# Write your code below and press Shift+Enter to execute\n",
        "genres_tuple[3]"
      ]
    },
    {
      "cell_type": "markdown",
      "metadata": {
        "id": "mIB_QiTT6vpv"
      },
      "source": [
        "Use slicing to obtain indexes 3, 4 and 5:\n"
      ]
    },
    {
      "cell_type": "code",
      "execution_count": null,
      "metadata": {
        "id": "ZfEsTxwS6vpw",
        "outputId": "a2400e6b-0658-4104-8662-214935e0261d"
      },
      "outputs": [
        {
          "data": {
            "text/plain": [
              "('hard rock', 'soft rock', 'R&B')"
            ]
          },
          "execution_count": 24,
          "metadata": {},
          "output_type": "execute_result"
        }
      ],
      "source": [
        "# Write your code below and press Shift+Enter to execute\n",
        "genres_tuple[3:6]"
      ]
    },
    {
      "cell_type": "markdown",
      "metadata": {
        "id": "ZnKEQkFx6vpw"
      },
      "source": [
        "Find the first two elements of the tuple <code>genres_tuple</code>:\n"
      ]
    },
    {
      "cell_type": "code",
      "execution_count": null,
      "metadata": {
        "id": "zALSWKjm6vpw",
        "outputId": "7468cc84-e4c9-4c79-c035-5f483e3c7dca"
      },
      "outputs": [
        {
          "data": {
            "text/plain": [
              "('pop', 'rock')"
            ]
          },
          "execution_count": 25,
          "metadata": {},
          "output_type": "execute_result"
        }
      ],
      "source": [
        "# Write your code below and press Shift+Enter to execute\n",
        "genres_tuple[0:2]"
      ]
    },
    {
      "cell_type": "markdown",
      "metadata": {
        "id": "QcWePWyS6vpw"
      },
      "source": [
        "Find the index of 's' in <code>\"disco\"</code>:\n"
      ]
    },
    {
      "cell_type": "code",
      "execution_count": null,
      "metadata": {
        "id": "SIS8ltww6vpx",
        "outputId": "291db165-b01e-43a2-fc16-8e53f2c97691"
      },
      "outputs": [
        {
          "data": {
            "text/plain": [
              "2"
            ]
          },
          "execution_count": 27,
          "metadata": {},
          "output_type": "execute_result"
        }
      ],
      "source": [
        "# Write your code below and press Shift+Enter to execute\n",
        "\"disco\".find('s')"
      ]
    },
    {
      "cell_type": "markdown",
      "metadata": {
        "id": "4GMNWU6k6vpx"
      },
      "source": [
        "Generate a sorted List from the Tuple <code>C_tuple=(-5, 1, -3)</code>:\n"
      ]
    },
    {
      "cell_type": "code",
      "execution_count": null,
      "metadata": {
        "id": "hdaMz4P96vpx",
        "outputId": "beb6eff5-9af9-4950-f820-3f776456aada"
      },
      "outputs": [
        {
          "data": {
            "text/plain": [
              "[-5, -3, 1]"
            ]
          },
          "execution_count": 28,
          "metadata": {},
          "output_type": "execute_result"
        }
      ],
      "source": [
        "# Write your code below and press Shift+Enter to execute\n",
        "C_tuple = (-5, 1, -3)\n",
        "C_list = sorted(C_tuple)\n",
        "C_list"
      ]
    }
  ],
  "metadata": {
    "kernelspec": {
      "display_name": "Python 3 (ipykernel)",
      "language": "python",
      "name": "python3"
    },
    "language_info": {
      "codemirror_mode": {
        "name": "ipython",
        "version": 3
      },
      "file_extension": ".py",
      "mimetype": "text/x-python",
      "name": "python",
      "nbconvert_exporter": "python",
      "pygments_lexer": "ipython3",
      "version": "3.11.5"
    },
    "prev_pub_hash": "262baa0d4af8b05bd91a210c79ff0fa7e1e1c85b679b9e0834c7fdd1a5cbb37b",
    "colab": {
      "provenance": [],
      "collapsed_sections": [
        "SZhIEAvC67zr",
        "AhwnU7QM8PJL"
      ]
    }
  },
  "nbformat": 4,
  "nbformat_minor": 0
}