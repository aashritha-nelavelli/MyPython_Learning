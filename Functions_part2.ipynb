{
  "cells": [
    {
      "cell_type": "code",
      "execution_count": null,
      "metadata": {
        "id": "og6JcAyYJNyE",
        "outputId": "58e4735d-0832-428b-b358-0e878f6b0651"
      },
      "outputs": [
        {
          "data": {
            "text/plain": [
              "4"
            ]
          },
          "execution_count": 3,
          "metadata": {},
          "output_type": "execute_result"
        }
      ],
      "source": [
        "function=lambda x:x**2\n",
        "\n",
        "function(2)"
      ]
    },
    {
      "cell_type": "code",
      "execution_count": null,
      "metadata": {
        "id": "RLMpxvWHJNyH",
        "outputId": "cf03329e-19c7-49a6-ca63-d0e859dffaf2"
      },
      "outputs": [
        {
          "data": {
            "text/plain": [
              "5"
            ]
          },
          "execution_count": 4,
          "metadata": {},
          "output_type": "execute_result"
        }
      ],
      "source": [
        "function=lambda y:y+2\n",
        "\n",
        "function(3)"
      ]
    },
    {
      "cell_type": "code",
      "execution_count": null,
      "metadata": {
        "id": "zmELGn4zJNyH",
        "outputId": "836a9cb7-1ade-4da9-ca1f-85d1dc4b5c1b"
      },
      "outputs": [
        {
          "data": {
            "text/plain": [
              "52"
            ]
          },
          "execution_count": 7,
          "metadata": {},
          "output_type": "execute_result"
        }
      ],
      "source": [
        "function=lambda x,y,z : x+y*z\n",
        "\n",
        "function(7,9,5)"
      ]
    },
    {
      "cell_type": "code",
      "execution_count": null,
      "metadata": {
        "id": "VY-PVINnJNyI",
        "outputId": "5194ebbb-bafb-4dd2-c4d5-e2bd22717f3d"
      },
      "outputs": [
        {
          "data": {
            "text/plain": [
              "'odd'"
            ]
          },
          "execution_count": 8,
          "metadata": {},
          "output_type": "execute_result"
        }
      ],
      "source": [
        "function=lambda x:'even' if x%2==0 else 'odd'\n",
        "\n",
        "function(9)"
      ]
    },
    {
      "cell_type": "code",
      "execution_count": null,
      "metadata": {
        "id": "3ZCMH572JNyI"
      },
      "outputs": [],
      "source": [
        "function=lambda x,y : 'evens' if x%2==0 or y%2==0 else 'not all evens'"
      ]
    },
    {
      "cell_type": "code",
      "execution_count": null,
      "metadata": {
        "id": "vpHSZmYUJNyI",
        "outputId": "0724cf60-e492-4b69-af46-b5cfa915f25f"
      },
      "outputs": [
        {
          "data": {
            "text/plain": [
              "'evens'"
            ]
          },
          "execution_count": 13,
          "metadata": {},
          "output_type": "execute_result"
        }
      ],
      "source": [
        "function(2,5)"
      ]
    },
    {
      "cell_type": "code",
      "execution_count": null,
      "metadata": {
        "id": "KGV0THBdJNyJ",
        "outputId": "894056ea-e07a-4b53-e1c4-d7318ee4c46c"
      },
      "outputs": [
        {
          "data": {
            "text/plain": [
              "6"
            ]
          },
          "execution_count": 19,
          "metadata": {},
          "output_type": "execute_result"
        }
      ],
      "source": [
        "function=lambda x: len(x)\n",
        "\n",
        "list1='string'\n",
        "function(list1)"
      ]
    },
    {
      "cell_type": "code",
      "execution_count": null,
      "metadata": {
        "id": "ttTf4Sa_JNyJ",
        "outputId": "ace45186-2c29-4745-e3f4-3918acc12c8c"
      },
      "outputs": [
        {
          "data": {
            "text/plain": [
              "'odd'"
            ]
          },
          "execution_count": 21,
          "metadata": {},
          "output_type": "execute_result"
        }
      ],
      "source": [
        "list1=[98,89,76,54,23,63]\n",
        "\n",
        "def find_even(x):\n",
        "    if x%2==0:\n",
        "        return 'even'\n",
        "    else:\n",
        "        return 'odd'\n",
        "\n",
        "\n",
        "find_even(9)\n",
        "\n"
      ]
    },
    {
      "cell_type": "code",
      "execution_count": null,
      "metadata": {
        "id": "IA2n5Vc9JNyJ",
        "outputId": "b504c263-4f55-44db-a49b-a0a5b2cfa166"
      },
      "outputs": [
        {
          "data": {
            "text/plain": [
              "['even', 'odd', 'even', 'even', 'odd', 'odd']"
            ]
          },
          "execution_count": 26,
          "metadata": {},
          "output_type": "execute_result"
        }
      ],
      "source": [
        "list(map(find_even,list1))"
      ]
    },
    {
      "cell_type": "code",
      "execution_count": null,
      "metadata": {
        "id": "_1vi-DNPJNyL",
        "outputId": "d80363e8-39cc-4bb6-c67d-16dcb2ba29f2"
      },
      "outputs": [
        {
          "data": {
            "text/plain": [
              "['even', 'odd', 'even', 'even', 'odd', 'odd']"
            ]
          },
          "execution_count": 27,
          "metadata": {},
          "output_type": "execute_result"
        }
      ],
      "source": [
        "list(map(lambda x: 'even' if x%2==0 else 'odd',list1))"
      ]
    },
    {
      "cell_type": "code",
      "execution_count": null,
      "metadata": {
        "id": "IYRpEgmtJNyL",
        "outputId": "d5b9f566-3372-47db-d4c4-c85da839545e"
      },
      "outputs": [
        {
          "data": {
            "text/plain": [
              "['odd', 'odd', 'even', 'even', 'even', 'odd', 'odd']"
            ]
          },
          "execution_count": 5,
          "metadata": {},
          "output_type": "execute_result"
        }
      ],
      "source": [
        "list1=[25,89,150,326,6,55,23]\n",
        "\n",
        "def find_even(x):\n",
        "    if x%2==0:\n",
        "        return 'even'\n",
        "    else:\n",
        "        return 'odd'\n",
        "\n",
        "\n",
        "list2=list(map(find_even,list1))\n",
        "list2"
      ]
    },
    {
      "cell_type": "code",
      "execution_count": null,
      "metadata": {
        "id": "zDNQAmknJNyM",
        "outputId": "6ce1f1f5-6172-40be-fdad-272688c8103a"
      },
      "outputs": [
        {
          "data": {
            "text/plain": [
              "[625, 7921, 22500, 106276, 36, 3025, 529]"
            ]
          },
          "execution_count": 6,
          "metadata": {},
          "output_type": "execute_result"
        }
      ],
      "source": [
        "list2=list(map(lambda x:x**2,list1))\n",
        "list2"
      ]
    },
    {
      "cell_type": "code",
      "execution_count": 1,
      "metadata": {
        "id": "kwE692n5JNyM"
      },
      "outputs": [],
      "source": [
        "# pallindrom\n",
        "\n",
        "#121--> 121\n",
        "# 1221-->1221\n",
        "\n",
        "# x=1234321 # check if its a pallindrome\n",
        "\n",
        "def find_pallindrom(x):\n",
        "    if str(x)[::-1]==str(x):\n",
        "        return 'palindrom'\n",
        "    else:\n",
        "        return 'not palindrom'"
      ]
    },
    {
      "cell_type": "code",
      "execution_count": 2,
      "metadata": {
        "colab": {
          "base_uri": "https://localhost:8080/",
          "height": 35
        },
        "id": "9Hza4q3jJNyM",
        "outputId": "032c2552-af5f-43eb-8ba6-ee1ea4c94640"
      },
      "outputs": [
        {
          "output_type": "execute_result",
          "data": {
            "text/plain": [
              "'palindrom'"
            ],
            "application/vnd.google.colaboratory.intrinsic+json": {
              "type": "string"
            }
          },
          "metadata": {},
          "execution_count": 2
        }
      ],
      "source": [
        "find_pallindrom(1234321)"
      ]
    },
    {
      "cell_type": "code",
      "execution_count": 3,
      "metadata": {
        "id": "tpnJbXF4JNyN"
      },
      "outputs": [],
      "source": [
        "list1=[121,1224221,98,676,999,766]"
      ]
    },
    {
      "cell_type": "code",
      "execution_count": 4,
      "metadata": {
        "colab": {
          "base_uri": "https://localhost:8080/"
        },
        "id": "x5ItHcsVJNyN",
        "outputId": "d38a69fb-1904-4d55-d2ea-c5eed4fb3e72"
      },
      "outputs": [
        {
          "output_type": "execute_result",
          "data": {
            "text/plain": [
              "['palindrom',\n",
              " 'palindrom',\n",
              " 'not palindrom',\n",
              " 'palindrom',\n",
              " 'palindrom',\n",
              " 'not palindrom']"
            ]
          },
          "metadata": {},
          "execution_count": 4
        }
      ],
      "source": [
        "list(map(lambda x: 'palindrom' if str(x)[::-1]==str(x) else 'not palindrom',list1))"
      ]
    }
  ],
  "metadata": {
    "kernelspec": {
      "display_name": "Python 3 (Data Science)",
      "language": "python",
      "name": "python3__SAGEMAKER_INTERNAL__arn:aws:sagemaker:us-east-2:429704687514:image/datascience-1.0"
    },
    "language_info": {
      "codemirror_mode": {
        "name": "ipython",
        "version": 3
      },
      "file_extension": ".py",
      "mimetype": "text/x-python",
      "name": "python",
      "nbconvert_exporter": "python",
      "pygments_lexer": "ipython3",
      "version": "3.7.6"
    },
    "colab": {
      "provenance": []
    }
  },
  "nbformat": 4,
  "nbformat_minor": 0
}