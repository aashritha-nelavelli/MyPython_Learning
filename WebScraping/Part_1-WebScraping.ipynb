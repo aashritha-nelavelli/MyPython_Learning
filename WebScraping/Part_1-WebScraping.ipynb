{
  "cells": [
    {
      "cell_type": "markdown",
      "source": [
        "Beautiful Soup is a Python library used for web scraping — extracting data from HTML and XML files. It creates a parse tree from page source code, making it easy to search, navigate, and modify elements of a web page.\n",
        "\n",
        "Key Features:\n",
        "Parses HTML and XML documents.\n",
        "\n",
        "Works well with poorly formatted or broken markup (very forgiving).\n",
        "\n",
        "Allows searching elements by tags, attributes, CSS selectors, and more.\n",
        "\n"
      ],
      "metadata": {
        "id": "dHutXJ7h-btJ"
      }
    },
    {
      "cell_type": "code",
      "execution_count": null,
      "metadata": {
        "id": "pPDhRfMC9hmo"
      },
      "outputs": [],
      "source": [
        "import requests\n",
        "from bs4 import BeautifulSoup"
      ]
    },
    {
      "cell_type": "code",
      "execution_count": null,
      "metadata": {
        "colab": {
          "base_uri": "https://localhost:8080/"
        },
        "id": "fw7AmgLk9hmq",
        "outputId": "2d2f5dae-15cd-40f9-f12e-9b4571bcf9b1"
      },
      "outputs": [
        {
          "output_type": "stream",
          "name": "stdout",
          "text": [
            "200\n"
          ]
        }
      ],
      "source": [
        "import requests\n",
        "\n",
        "headers = {\n",
        "    \"User-Agent\": \"Mozilla/5.0 (Windows NT 10.0; Win64; x64) \"\n",
        "                  \"AppleWebKit/537.36 (KHTML, like Gecko) \"\n",
        "                  \"Chrome/122.0.0.0 Safari/537.36\"\n",
        "}\n",
        "\n",
        "r = requests.get('https://www.goodreads.com/', headers=headers)\n",
        "print(r.status_code)\n"
      ]
    },
    {
      "cell_type": "code",
      "execution_count": null,
      "metadata": {
        "id": "IBHBdv849hmr"
      },
      "outputs": [],
      "source": [
        "# Parsing means to split the data into smaller chunks based on some rules"
      ]
    },
    {
      "cell_type": "code",
      "execution_count": null,
      "metadata": {
        "colab": {
          "base_uri": "https://localhost:8080/"
        },
        "id": "LyQ706oU9hmr",
        "outputId": "b5beb115-016e-4527-a020-d593aad51cb4"
      },
      "outputs": [
        {
          "output_type": "execute_result",
          "data": {
            "text/plain": [
              "[<a class=\"gr-hyperlink\" href=\"/about/terms\" rel=\"noopener noreferrer\" target=\"_blank\">Terms of Service</a>,\n",
              " <a class=\"gr-hyperlink\" href=\"/about/privacy\" rel=\"noopener noreferrer\" target=\"_blank\">Privacy Policy</a>,\n",
              " <a class=\"gr-hyperlink\" href=\"/user/sign_in\">Sign In</a>,\n",
              " <a class=\"gr-hyperlink\" href=\"/genres/art\">Art</a>,\n",
              " <a class=\"gr-hyperlink\" href=\"/genres/biography\">Biography</a>,\n",
              " <a class=\"gr-hyperlink\" href=\"/genres/business\">Business</a>,\n",
              " <a class=\"gr-hyperlink\" href=\"/genres/children-s\">Children's</a>,\n",
              " <a class=\"gr-hyperlink\" href=\"/genres/christian\">Christian</a>,\n",
              " <a class=\"gr-hyperlink\" href=\"/genres/classics\">Classics</a>,\n",
              " <a class=\"gr-hyperlink\" href=\"/genres/comics\">Comics</a>,\n",
              " <a class=\"gr-hyperlink\" href=\"/genres/cookbooks\">Cookbooks</a>,\n",
              " <a class=\"gr-hyperlink\" href=\"/genres/ebooks\">Ebooks</a>,\n",
              " <a class=\"gr-hyperlink\" href=\"/genres/fantasy\">Fantasy</a>,\n",
              " <a class=\"gr-hyperlink\" href=\"/genres/fiction\">Fiction</a>,\n",
              " <a class=\"gr-hyperlink\" href=\"/genres/graphic-novels\">Graphic Novels</a>,\n",
              " <a class=\"gr-hyperlink\" href=\"/genres/historical-fiction\">Historical Fiction</a>,\n",
              " <a class=\"gr-hyperlink\" href=\"/genres/history\">History</a>,\n",
              " <a class=\"gr-hyperlink\" href=\"/genres/horror\">Horror</a>,\n",
              " <a class=\"gr-hyperlink\" href=\"/genres/memoir\">Memoir</a>,\n",
              " <a class=\"gr-hyperlink\" href=\"/genres/music\">Music</a>,\n",
              " <a class=\"gr-hyperlink\" href=\"/genres/mystery\">Mystery</a>,\n",
              " <a class=\"gr-hyperlink\" href=\"/genres/non-fiction\">Nonfiction</a>,\n",
              " <a class=\"gr-hyperlink\" href=\"/genres/poetry\">Poetry</a>,\n",
              " <a class=\"gr-hyperlink\" href=\"/genres/psychology\">Psychology</a>,\n",
              " <a class=\"gr-hyperlink\" href=\"/genres/romance\">Romance</a>,\n",
              " <a class=\"gr-hyperlink\" href=\"/genres/science\">Science</a>,\n",
              " <a class=\"gr-hyperlink\" href=\"/genres/science-fiction\">Science Fiction</a>,\n",
              " <a class=\"gr-hyperlink\" href=\"/genres/self-help\">Self Help</a>,\n",
              " <a class=\"gr-hyperlink\" href=\"/genres/sports\">Sports</a>,\n",
              " <a class=\"gr-hyperlink\" href=\"/genres/thriller\">Thriller</a>,\n",
              " <a class=\"gr-hyperlink\" href=\"/genres/travel\">Travel</a>,\n",
              " <a class=\"gr-hyperlink\" href=\"/genres/young-adult\">Young Adult</a>,\n",
              " <a class=\"gr-hyperlink\" href=\"/genres\">More genres</a>,\n",
              " <a class=\"gr-hyperlink\" href=\"/quotes\">Best quotes</a>,\n",
              " <a class=\"gr-hyperlink\" href=\"/quotes/tag/love\">Love quotes</a>,\n",
              " <a class=\"gr-hyperlink\" href=\"/quotes/tag/inspirational\">Inspirational quotes</a>,\n",
              " <a class=\"gr-hyperlink\" href=\"/quotes/tag/funny\">Funny quotes</a>,\n",
              " <a class=\"gr-hyperlink\" href=\"/quotes/tag/motivational\">Motivational quotes</a>,\n",
              " <a class=\"gr-hyperlink\" href=\"/quotes/tag/life\">Life quotes</a>,\n",
              " <a class=\"gr-hyperlink\" href=\"/quotes/tag/friends\">Friends quotes</a>,\n",
              " <a class=\"gr-hyperlink\" href=\"/quotes/tag/positive\">Positive quotes</a>,\n",
              " <a class=\"gr-hyperlink\" href=\"/quotes\">More quotes</a>,\n",
              " <a class=\"gr-hyperlink\" href=\"/choiceawards/best-books-2024\">Readers' Favorite 2024</a>,\n",
              " <a class=\"gr-hyperlink\" href=\"/choiceawards/readers-favorite-fiction-books-2024\">Readers' Favorite Fiction</a>,\n",
              " <a class=\"gr-hyperlink\" href=\"/choiceawards/readers-favorite-historical-fiction-books-2024\">Readers' Favorite Historical Fiction</a>,\n",
              " <a class=\"gr-hyperlink\" href=\"/choiceawards/readers-favorite-mystery-thriller-books-2024\">Readers' Favorite Mystery &amp; Thriller</a>,\n",
              " <a class=\"gr-hyperlink\" href=\"/choiceawards/readers-favorite-romance-books-2024\">Readers' Favorite Romance</a>,\n",
              " <a class=\"gr-hyperlink\" href=\"/choiceawards/readers-favorite-romantasy-books-2024\">Readers' Favorite Romantasy</a>,\n",
              " <a class=\"gr-hyperlink\" href=\"/choiceawards/readers-favorite-fantasy-books-2024\">Readers' Favorite Fantasy</a>,\n",
              " <a class=\"gr-hyperlink\" href=\"/choiceawards/readers-favorite-science-fiction-books-2024\">Readers' Favorite Science Fiction</a>,\n",
              " <a class=\"gr-hyperlink\" href=\"/choiceawards/readers-favorite-horror-books-2024\">Readers' Favorite Horror</a>,\n",
              " <a class=\"gr-hyperlink\" href=\"/choiceawards/readers-favorite-debut-novel-2024\">Readers' Favorite Debut Novel</a>,\n",
              " <a class=\"gr-hyperlink\" href=\"/choiceawards/readers-favorite-audio-books-2024\">Readers' Favorite Audiobook</a>,\n",
              " <a class=\"gr-hyperlink\" href=\"/choiceawards/readers-favorite-ya-fantasy-books-2024\">Readers' Favorite Young Adult Fantasy</a>,\n",
              " <a class=\"gr-hyperlink\" href=\"/choiceawards/readers-favorite-ya-fiction-books-2024\">Readers' Favorite Young Adult Fiction</a>,\n",
              " <a class=\"gr-hyperlink\" href=\"/choiceawards/readers-favorite-nonfiction-books-2024\">Readers' Favorite Nonfiction</a>,\n",
              " <a class=\"gr-hyperlink\" href=\"/choiceawards/readers-favorite-memoir-books-2024\">Readers' Favorite Memoir</a>,\n",
              " <a class=\"gr-hyperlink\" href=\"/choiceawards/readers-favorite-history-bio-books-2024\">Readers' Favorite History &amp; Biography</a>,\n",
              " <a class=\"gr-hyperlink\" href=\"/list\">More book lists</a>]"
            ]
          },
          "metadata": {},
          "execution_count": 9
        }
      ],
      "source": [
        "book_soup = BeautifulSoup(r.content, 'html.parser')\n",
        "categories=book_soup.find_all('a',attrs={'class':'gr-hyperlink'})\n",
        "categories"
      ]
    },
    {
      "cell_type": "code",
      "execution_count": null,
      "metadata": {
        "id": "r4Vzufv19hms"
      },
      "outputs": [],
      "source": [
        "txt_categories=[]\n",
        "for tag in categories:\n",
        "    if 'genres' in tag.get('href'):\n",
        "        txt_categories.append(tag.string)"
      ]
    },
    {
      "cell_type": "code",
      "execution_count": null,
      "metadata": {
        "scrolled": false,
        "colab": {
          "base_uri": "https://localhost:8080/"
        },
        "id": "PqAsAnUw9hms",
        "outputId": "eb73aba3-3d91-487d-886b-298a93d46b82"
      },
      "outputs": [
        {
          "output_type": "stream",
          "name": "stdout",
          "text": [
            "Art\n",
            "Biography\n",
            "Business\n",
            "Children's\n",
            "Christian\n",
            "Classics\n",
            "Comics\n",
            "Cookbooks\n",
            "Ebooks\n",
            "Fantasy\n",
            "Fiction\n",
            "Graphic Novels\n",
            "Historical Fiction\n",
            "History\n",
            "Horror\n",
            "Memoir\n",
            "Music\n",
            "Mystery\n",
            "Nonfiction\n",
            "Poetry\n",
            "Psychology\n",
            "Romance\n",
            "Science\n",
            "Science Fiction\n",
            "Self Help\n",
            "Sports\n",
            "Thriller\n",
            "Travel\n",
            "Young Adult\n",
            "More genres\n"
          ]
        }
      ],
      "source": [
        "for category in txt_categories:\n",
        "    print(category)"
      ]
    },
    {
      "cell_type": "code",
      "execution_count": null,
      "metadata": {
        "id": "Udr89nqP9hms"
      },
      "outputs": [],
      "source": []
    }
  ],
  "metadata": {
    "kernelspec": {
      "display_name": "Python 3",
      "language": "python",
      "name": "python3"
    },
    "language_info": {
      "codemirror_mode": {
        "name": "ipython",
        "version": 3
      },
      "file_extension": ".py",
      "mimetype": "text/x-python",
      "name": "python",
      "nbconvert_exporter": "python",
      "pygments_lexer": "ipython3",
      "version": "3.7.6"
    },
    "colab": {
      "provenance": []
    }
  },
  "nbformat": 4,
  "nbformat_minor": 0
}