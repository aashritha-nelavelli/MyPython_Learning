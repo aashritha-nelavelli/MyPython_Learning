{
 "cells": [
  {
   "cell_type": "code",
   "execution_count": 1,
   "metadata": {},
   "outputs": [],
   "source": [
    "import requests\n",
    "import csv #to store the data\n",
    "import pandas as pd #For storing data\n",
    "import matplotlib.pyplot as plt #For Visualisation\n",
    "from bs4 import BeautifulSoup"
   ]
  },
  {
   "cell_type": "code",
   "execution_count": 2,
   "metadata": {},
   "outputs": [
    {
     "data": {
      "text/plain": [
       "200"
      ]
     },
     "execution_count": 2,
     "metadata": {},
     "output_type": "execute_result"
    }
   ],
   "source": [
    "response=requests.get('https://www.rottentomatoes.com/top/bestofrt/')\n",
    "response.status_code # status code 200 defines Success - OK"
   ]
  },
  {
   "cell_type": "code",
   "execution_count": 3,
   "metadata": {},
   "outputs": [],
   "source": [
    "soup=BeautifulSoup(response.content,'html.parser')\n",
    "movie_list=soup.find('table','table')"
   ]
  },
  {
   "cell_type": "code",
   "execution_count": 4,
   "metadata": {},
   "outputs": [],
   "source": [
    "movie_rating=movie_list.find_all('span','tMeterScore')\n",
    "movie_name=movie_list.find_all('a',attrs={'class':'unstyled articleLink'})\n",
    "movie_reviews=movie_list.find_all('td','right hidden-xs')"
   ]
  },
  {
   "cell_type": "code",
   "execution_count": 5,
   "metadata": {
    "scrolled": false
   },
   "outputs": [
    {
     "data": {
      "text/plain": [
       "(<a class=\"unstyled articleLink\" href=\"/m/parasite_2019\">\n",
       "             Parasite (Gisaengchung) (2019)</a>,\n",
       " <span class=\"tMeterScore\"> 98%</span>,\n",
       " <td class=\"right hidden-xs\">456</td>)"
      ]
     },
     "execution_count": 5,
     "metadata": {},
     "output_type": "execute_result"
    }
   ],
   "source": [
    "#Now we have collected required tags\n",
    "movie_name[1],movie_rating[1],movie_reviews[1]"
   ]
  },
  {
   "cell_type": "code",
   "execution_count": 6,
   "metadata": {},
   "outputs": [],
   "source": [
    "for i in range(100):\n",
    "    movie_name[i]=movie_name[i].string\n",
    "    movie_rating[i]=movie_rating[i].string\n",
    "    movie_reviews[i]=movie_reviews[i].string"
   ]
  },
  {
   "cell_type": "code",
   "execution_count": 7,
   "metadata": {},
   "outputs": [
    {
     "data": {
      "text/plain": [
       "('\\n            Parasite (Gisaengchung) (2019)', '\\xa098%', '456')"
      ]
     },
     "execution_count": 7,
     "metadata": {},
     "output_type": "execute_result"
    }
   ],
   "source": [
    "#Now we have extracted the data\n",
    "movie_name[1],movie_rating[1],movie_reviews[1]"
   ]
  },
  {
   "cell_type": "code",
   "execution_count": 8,
   "metadata": {},
   "outputs": [],
   "source": [
    "'''\n",
    "We need our data as:\n",
    "Movie Name, Movie Year, Movie Ratings, Movie Reviews\n",
    "So we have defined a function Movie_name_year which splits movie name and year.\n",
    "'''\n",
    "def Movie_name_year(movie):\n",
    "    movie=movie[1:]\n",
    "    movie=str.lstrip(movie) #Stripping any whitespaces from left\n",
    "    return movie[:-6], movie[-5:-1]"
   ]
  },
  {
   "cell_type": "code",
   "execution_count": 9,
   "metadata": {},
   "outputs": [],
   "source": [
    "movie_year=[]\n",
    "for i in range(100):\n",
    "    name, year=Movie_name_year(movie_name[i])\n",
    "    movie_name[i]=name\n",
    "    movie_year.append(year)"
   ]
  },
  {
   "cell_type": "code",
   "execution_count": 10,
   "metadata": {},
   "outputs": [],
   "source": [
    "'''\n",
    "We need to:\n",
    "clean the ratings \n",
    "Convert year, reviews and ratings to integer\n",
    "'''\n",
    "y=[]\n",
    "for i in range(100):\n",
    "    movie_year[i]=int(movie_year[i])\n",
    "    movie_reviews[i]=int(movie_reviews[i])\n",
    "    movie_rating[i]=int(movie_rating[i][1:-1])"
   ]
  },
  {
   "cell_type": "code",
   "execution_count": 10,
   "metadata": {},
   "outputs": [
    {
     "data": {
      "text/html": [
       "<div>\n",
       "<style scoped>\n",
       "    .dataframe tbody tr th:only-of-type {\n",
       "        vertical-align: middle;\n",
       "    }\n",
       "\n",
       "    .dataframe tbody tr th {\n",
       "        vertical-align: top;\n",
       "    }\n",
       "\n",
       "    .dataframe thead th {\n",
       "        text-align: right;\n",
       "    }\n",
       "</style>\n",
       "<table border=\"1\" class=\"dataframe\">\n",
       "  <thead>\n",
       "    <tr style=\"text-align: right;\">\n",
       "      <th></th>\n",
       "      <th>Name</th>\n",
       "      <th>Year</th>\n",
       "      <th>Ratings</th>\n",
       "      <th>Reviews</th>\n",
       "    </tr>\n",
       "  </thead>\n",
       "  <tbody>\n",
       "    <tr>\n",
       "      <th>0</th>\n",
       "      <td>Black Panther</td>\n",
       "      <td>2018</td>\n",
       "      <td>96%</td>\n",
       "      <td>517</td>\n",
       "    </tr>\n",
       "    <tr>\n",
       "      <th>1</th>\n",
       "      <td>Parasite (Gisaengchung)</td>\n",
       "      <td>2019</td>\n",
       "      <td>98%</td>\n",
       "      <td>456</td>\n",
       "    </tr>\n",
       "    <tr>\n",
       "      <th>2</th>\n",
       "      <td>Avengers: Endgame</td>\n",
       "      <td>2019</td>\n",
       "      <td>94%</td>\n",
       "      <td>532</td>\n",
       "    </tr>\n",
       "    <tr>\n",
       "      <th>3</th>\n",
       "      <td>Knives Out</td>\n",
       "      <td>2019</td>\n",
       "      <td>97%</td>\n",
       "      <td>458</td>\n",
       "    </tr>\n",
       "    <tr>\n",
       "      <th>4</th>\n",
       "      <td>Us</td>\n",
       "      <td>2019</td>\n",
       "      <td>93%</td>\n",
       "      <td>539</td>\n",
       "    </tr>\n",
       "  </tbody>\n",
       "</table>\n",
       "</div>"
      ],
      "text/plain": [
       "                       Name  Year Ratings Reviews\n",
       "0            Black Panther   2018     96%     517\n",
       "1  Parasite (Gisaengchung)   2019     98%     456\n",
       "2        Avengers: Endgame   2019     94%     532\n",
       "3               Knives Out   2019     97%     458\n",
       "4                       Us   2019     93%     539"
      ]
     },
     "execution_count": 10,
     "metadata": {},
     "output_type": "execute_result"
    }
   ],
   "source": [
    "#Here we are going to store the data into a csv file\n",
    "#Creating a DataFrame to store\n",
    "movie=pd.DataFrame({'Name':movie_name,'Year':movie_year,'Ratings':movie_rating,'Reviews':movie_reviews})\n",
    "movie.head()"
   ]
  },
  {
   "cell_type": "code",
   "execution_count": 11,
   "metadata": {},
   "outputs": [],
   "source": [
    "movie.to_csv('TopMovies(RottenTomatoes).csv')"
   ]
  },
  {
   "cell_type": "code",
   "execution_count": 15,
   "metadata": {},
   "outputs": [
    {
     "data": {
      "image/png": "[encoded data removed]",
      "text/plain": [
       "<Figure size 432x288 with 1 Axes>"
      ]
     },
     "metadata": {
      "needs_background": "light"
     },
     "output_type": "display_data"
    }
   ],
   "source": [
    "plt.hist(movie.Year,bins=10)\n",
    "plt.xlabel('Year')\n",
    "plt.ylabel('Frequency',rotation=90)\n",
    "plt.show()"
   ]
  },
  {
   "cell_type": "code",
   "execution_count": null,
   "metadata": {},
   "outputs": [],
   "source": []
  }
 ],
 "metadata": {
  "kernelspec": {
   "display_name": "Python 3",
   "language": "python",
   "name": "python3"
  },
  "language_info": {
   "codemirror_mode": {
    "name": "ipython",
    "version": 3
   },
   "file_extension": ".py",
   "mimetype": "text/x-python",
   "name": "python",
   "nbconvert_exporter": "python",
   "pygments_lexer": "ipython3",
   "version": "3.7.6"
  }
 },
 "nbformat": 4,
 "nbformat_minor": 2
}
